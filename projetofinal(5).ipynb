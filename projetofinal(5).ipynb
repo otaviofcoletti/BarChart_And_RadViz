{
  "nbformat": 4,
  "nbformat_minor": 0,
  "metadata": {
    "colab": {
      "provenance": []
    },
    "kernelspec": {
      "name": "python3",
      "display_name": "Python 3"
    },
    "language_info": {
      "name": "python"
    },
    "widgets": {
      "application/vnd.jupyter.widget-state+json": {
        "e6251d238f8643169cdb1c480b3e2917": {
          "model_module": "@jupyter-widgets/controls",
          "model_name": "VBoxModel",
          "model_module_version": "1.5.0",
          "state": {
            "_dom_classes": [
              "widget-interact"
            ],
            "_model_module": "@jupyter-widgets/controls",
            "_model_module_version": "1.5.0",
            "_model_name": "VBoxModel",
            "_view_count": null,
            "_view_module": "@jupyter-widgets/controls",
            "_view_module_version": "1.5.0",
            "_view_name": "VBoxView",
            "box_style": "",
            "children": [
              "IPY_MODEL_41f132848ee94c7ca3f48ae5de73cb84",
              "IPY_MODEL_cf6c083ad2b04716b6260e722e9c1ee3",
              "IPY_MODEL_84a59d917d2445688dd2fdf8b8f6e875",
              "IPY_MODEL_af7801fd9d8f4c129c116541655ea800",
              "IPY_MODEL_83cf8f54d4da47cab3f45d403020eb91",
              "IPY_MODEL_398ab32a7b1e440096a3881ca03668a4",
              "IPY_MODEL_e4368f46be3e4c0b89e694fae1eafa37",
              "IPY_MODEL_6ab9ce10ef974a0ba5676d409b78219f",
              "IPY_MODEL_22d569ca310c4443ade11b2b275236c1"
            ],
            "layout": "IPY_MODEL_1a8efb8616dd45c584245b5944ae61ef"
          }
        },
        "41f132848ee94c7ca3f48ae5de73cb84": {
          "model_module": "@jupyter-widgets/controls",
          "model_name": "CheckboxModel",
          "model_module_version": "1.5.0",
          "state": {
            "_dom_classes": [],
            "_model_module": "@jupyter-widgets/controls",
            "_model_module_version": "1.5.0",
            "_model_name": "CheckboxModel",
            "_view_count": null,
            "_view_module": "@jupyter-widgets/controls",
            "_view_module_version": "1.5.0",
            "_view_name": "CheckboxView",
            "description": "valence",
            "description_tooltip": null,
            "disabled": false,
            "indent": false,
            "layout": "IPY_MODEL_147b9da5ccf44d06863e0ffa7cf59d4f",
            "style": "IPY_MODEL_392677018a2742258c2f144c2252cd69",
            "value": true
          }
        },
        "cf6c083ad2b04716b6260e722e9c1ee3": {
          "model_module": "@jupyter-widgets/controls",
          "model_name": "CheckboxModel",
          "model_module_version": "1.5.0",
          "state": {
            "_dom_classes": [],
            "_model_module": "@jupyter-widgets/controls",
            "_model_module_version": "1.5.0",
            "_model_name": "CheckboxModel",
            "_view_count": null,
            "_view_module": "@jupyter-widgets/controls",
            "_view_module_version": "1.5.0",
            "_view_name": "CheckboxView",
            "description": "acousticness",
            "description_tooltip": null,
            "disabled": false,
            "indent": false,
            "layout": "IPY_MODEL_b2dc59d7f21f490ba99a3c9ff0e43c4c",
            "style": "IPY_MODEL_622104298f6341f48fc3993e2f170eca",
            "value": true
          }
        },
        "84a59d917d2445688dd2fdf8b8f6e875": {
          "model_module": "@jupyter-widgets/controls",
          "model_name": "CheckboxModel",
          "model_module_version": "1.5.0",
          "state": {
            "_dom_classes": [],
            "_model_module": "@jupyter-widgets/controls",
            "_model_module_version": "1.5.0",
            "_model_name": "CheckboxModel",
            "_view_count": null,
            "_view_module": "@jupyter-widgets/controls",
            "_view_module_version": "1.5.0",
            "_view_name": "CheckboxView",
            "description": "danceability",
            "description_tooltip": null,
            "disabled": false,
            "indent": false,
            "layout": "IPY_MODEL_aa17e4ad259044698757dd76ff5457e8",
            "style": "IPY_MODEL_1efc48dd36f141f785c2691fa818813a",
            "value": true
          }
        },
        "af7801fd9d8f4c129c116541655ea800": {
          "model_module": "@jupyter-widgets/controls",
          "model_name": "CheckboxModel",
          "model_module_version": "1.5.0",
          "state": {
            "_dom_classes": [],
            "_model_module": "@jupyter-widgets/controls",
            "_model_module_version": "1.5.0",
            "_model_name": "CheckboxModel",
            "_view_count": null,
            "_view_module": "@jupyter-widgets/controls",
            "_view_module_version": "1.5.0",
            "_view_name": "CheckboxView",
            "description": "energy",
            "description_tooltip": null,
            "disabled": false,
            "indent": false,
            "layout": "IPY_MODEL_e6bd5da3318d432f8b047f895228dc2f",
            "style": "IPY_MODEL_2cd60c5cbcdd4f848401174a5912c8ee",
            "value": true
          }
        },
        "83cf8f54d4da47cab3f45d403020eb91": {
          "model_module": "@jupyter-widgets/controls",
          "model_name": "CheckboxModel",
          "model_module_version": "1.5.0",
          "state": {
            "_dom_classes": [],
            "_model_module": "@jupyter-widgets/controls",
            "_model_module_version": "1.5.0",
            "_model_name": "CheckboxModel",
            "_view_count": null,
            "_view_module": "@jupyter-widgets/controls",
            "_view_module_version": "1.5.0",
            "_view_name": "CheckboxView",
            "description": "liveness",
            "description_tooltip": null,
            "disabled": false,
            "indent": false,
            "layout": "IPY_MODEL_abb23efaad8e4a6fa5e068dc9c5e6cbc",
            "style": "IPY_MODEL_c7d491caed074bc4b9a61650c3f90deb",
            "value": true
          }
        },
        "398ab32a7b1e440096a3881ca03668a4": {
          "model_module": "@jupyter-widgets/controls",
          "model_name": "CheckboxModel",
          "model_module_version": "1.5.0",
          "state": {
            "_dom_classes": [],
            "_model_module": "@jupyter-widgets/controls",
            "_model_module_version": "1.5.0",
            "_model_name": "CheckboxModel",
            "_view_count": null,
            "_view_module": "@jupyter-widgets/controls",
            "_view_module_version": "1.5.0",
            "_view_name": "CheckboxView",
            "description": "speechiness",
            "description_tooltip": null,
            "disabled": false,
            "indent": false,
            "layout": "IPY_MODEL_801d08305e2444aeaf502353bd618984",
            "style": "IPY_MODEL_e67b694a87ff41758e73ba2bba02fe25",
            "value": true
          }
        },
        "e4368f46be3e4c0b89e694fae1eafa37": {
          "model_module": "@jupyter-widgets/controls",
          "model_name": "CheckboxModel",
          "model_module_version": "1.5.0",
          "state": {
            "_dom_classes": [],
            "_model_module": "@jupyter-widgets/controls",
            "_model_module_version": "1.5.0",
            "_model_name": "CheckboxModel",
            "_view_count": null,
            "_view_module": "@jupyter-widgets/controls",
            "_view_module_version": "1.5.0",
            "_view_name": "CheckboxView",
            "description": "instrumentalness",
            "description_tooltip": null,
            "disabled": false,
            "indent": false,
            "layout": "IPY_MODEL_b3559f6dfe3f4a6ab9aeb15421358933",
            "style": "IPY_MODEL_bc65d4ec44a04b41bd186f24725c9586",
            "value": true
          }
        },
        "6ab9ce10ef974a0ba5676d409b78219f": {
          "model_module": "@jupyter-widgets/controls",
          "model_name": "CheckboxModel",
          "model_module_version": "1.5.0",
          "state": {
            "_dom_classes": [],
            "_model_module": "@jupyter-widgets/controls",
            "_model_module_version": "1.5.0",
            "_model_name": "CheckboxModel",
            "_view_count": null,
            "_view_module": "@jupyter-widgets/controls",
            "_view_module_version": "1.5.0",
            "_view_name": "CheckboxView",
            "description": "loudness",
            "description_tooltip": null,
            "disabled": false,
            "indent": false,
            "layout": "IPY_MODEL_6589962599464740ab5d660fe20a46fe",
            "style": "IPY_MODEL_ccfa3e0168164c349d64ae69d7797dac",
            "value": true
          }
        },
        "22d569ca310c4443ade11b2b275236c1": {
          "model_module": "@jupyter-widgets/output",
          "model_name": "OutputModel",
          "model_module_version": "1.0.0",
          "state": {
            "_dom_classes": [],
            "_model_module": "@jupyter-widgets/output",
            "_model_module_version": "1.0.0",
            "_model_name": "OutputModel",
            "_view_count": null,
            "_view_module": "@jupyter-widgets/output",
            "_view_module_version": "1.0.0",
            "_view_name": "OutputView",
            "layout": "IPY_MODEL_4a5d44aa8d7644b687c93265eea94c5a",
            "msg_id": "",
            "outputs": [
              {
                "output_type": "display_data",
                "data": {
                  "text/plain": "<Figure size 1080x720 with 2 Axes>",
                  "image/png": "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\n"
                },
                "metadata": {
                  "needs_background": "light"
                }
              }
            ]
          }
        },
        "1a8efb8616dd45c584245b5944ae61ef": {
          "model_module": "@jupyter-widgets/base",
          "model_name": "LayoutModel",
          "model_module_version": "1.2.0",
          "state": {
            "_model_module": "@jupyter-widgets/base",
            "_model_module_version": "1.2.0",
            "_model_name": "LayoutModel",
            "_view_count": null,
            "_view_module": "@jupyter-widgets/base",
            "_view_module_version": "1.2.0",
            "_view_name": "LayoutView",
            "align_content": null,
            "align_items": null,
            "align_self": null,
            "border": null,
            "bottom": null,
            "display": null,
            "flex": null,
            "flex_flow": null,
            "grid_area": null,
            "grid_auto_columns": null,
            "grid_auto_flow": null,
            "grid_auto_rows": null,
            "grid_column": null,
            "grid_gap": null,
            "grid_row": null,
            "grid_template_areas": null,
            "grid_template_columns": null,
            "grid_template_rows": null,
            "height": null,
            "justify_content": null,
            "justify_items": null,
            "left": null,
            "margin": null,
            "max_height": null,
            "max_width": null,
            "min_height": null,
            "min_width": null,
            "object_fit": null,
            "object_position": null,
            "order": null,
            "overflow": null,
            "overflow_x": null,
            "overflow_y": null,
            "padding": null,
            "right": null,
            "top": null,
            "visibility": null,
            "width": null
          }
        },
        "147b9da5ccf44d06863e0ffa7cf59d4f": {
          "model_module": "@jupyter-widgets/base",
          "model_name": "LayoutModel",
          "model_module_version": "1.2.0",
          "state": {
            "_model_module": "@jupyter-widgets/base",
            "_model_module_version": "1.2.0",
            "_model_name": "LayoutModel",
            "_view_count": null,
            "_view_module": "@jupyter-widgets/base",
            "_view_module_version": "1.2.0",
            "_view_name": "LayoutView",
            "align_content": null,
            "align_items": null,
            "align_self": null,
            "border": null,
            "bottom": null,
            "display": null,
            "flex": null,
            "flex_flow": null,
            "grid_area": null,
            "grid_auto_columns": null,
            "grid_auto_flow": null,
            "grid_auto_rows": null,
            "grid_column": null,
            "grid_gap": null,
            "grid_row": null,
            "grid_template_areas": null,
            "grid_template_columns": null,
            "grid_template_rows": null,
            "height": null,
            "justify_content": null,
            "justify_items": null,
            "left": null,
            "margin": null,
            "max_height": null,
            "max_width": null,
            "min_height": null,
            "min_width": null,
            "object_fit": null,
            "object_position": null,
            "order": null,
            "overflow": null,
            "overflow_x": null,
            "overflow_y": null,
            "padding": null,
            "right": null,
            "top": null,
            "visibility": null,
            "width": null
          }
        },
        "392677018a2742258c2f144c2252cd69": {
          "model_module": "@jupyter-widgets/controls",
          "model_name": "DescriptionStyleModel",
          "model_module_version": "1.5.0",
          "state": {
            "_model_module": "@jupyter-widgets/controls",
            "_model_module_version": "1.5.0",
            "_model_name": "DescriptionStyleModel",
            "_view_count": null,
            "_view_module": "@jupyter-widgets/base",
            "_view_module_version": "1.2.0",
            "_view_name": "StyleView",
            "description_width": ""
          }
        },
        "b2dc59d7f21f490ba99a3c9ff0e43c4c": {
          "model_module": "@jupyter-widgets/base",
          "model_name": "LayoutModel",
          "model_module_version": "1.2.0",
          "state": {
            "_model_module": "@jupyter-widgets/base",
            "_model_module_version": "1.2.0",
            "_model_name": "LayoutModel",
            "_view_count": null,
            "_view_module": "@jupyter-widgets/base",
            "_view_module_version": "1.2.0",
            "_view_name": "LayoutView",
            "align_content": null,
            "align_items": null,
            "align_self": null,
            "border": null,
            "bottom": null,
            "display": null,
            "flex": null,
            "flex_flow": null,
            "grid_area": null,
            "grid_auto_columns": null,
            "grid_auto_flow": null,
            "grid_auto_rows": null,
            "grid_column": null,
            "grid_gap": null,
            "grid_row": null,
            "grid_template_areas": null,
            "grid_template_columns": null,
            "grid_template_rows": null,
            "height": null,
            "justify_content": null,
            "justify_items": null,
            "left": null,
            "margin": null,
            "max_height": null,
            "max_width": null,
            "min_height": null,
            "min_width": null,
            "object_fit": null,
            "object_position": null,
            "order": null,
            "overflow": null,
            "overflow_x": null,
            "overflow_y": null,
            "padding": null,
            "right": null,
            "top": null,
            "visibility": null,
            "width": null
          }
        },
        "622104298f6341f48fc3993e2f170eca": {
          "model_module": "@jupyter-widgets/controls",
          "model_name": "DescriptionStyleModel",
          "model_module_version": "1.5.0",
          "state": {
            "_model_module": "@jupyter-widgets/controls",
            "_model_module_version": "1.5.0",
            "_model_name": "DescriptionStyleModel",
            "_view_count": null,
            "_view_module": "@jupyter-widgets/base",
            "_view_module_version": "1.2.0",
            "_view_name": "StyleView",
            "description_width": ""
          }
        },
        "aa17e4ad259044698757dd76ff5457e8": {
          "model_module": "@jupyter-widgets/base",
          "model_name": "LayoutModel",
          "model_module_version": "1.2.0",
          "state": {
            "_model_module": "@jupyter-widgets/base",
            "_model_module_version": "1.2.0",
            "_model_name": "LayoutModel",
            "_view_count": null,
            "_view_module": "@jupyter-widgets/base",
            "_view_module_version": "1.2.0",
            "_view_name": "LayoutView",
            "align_content": null,
            "align_items": null,
            "align_self": null,
            "border": null,
            "bottom": null,
            "display": null,
            "flex": null,
            "flex_flow": null,
            "grid_area": null,
            "grid_auto_columns": null,
            "grid_auto_flow": null,
            "grid_auto_rows": null,
            "grid_column": null,
            "grid_gap": null,
            "grid_row": null,
            "grid_template_areas": null,
            "grid_template_columns": null,
            "grid_template_rows": null,
            "height": null,
            "justify_content": null,
            "justify_items": null,
            "left": null,
            "margin": null,
            "max_height": null,
            "max_width": null,
            "min_height": null,
            "min_width": null,
            "object_fit": null,
            "object_position": null,
            "order": null,
            "overflow": null,
            "overflow_x": null,
            "overflow_y": null,
            "padding": null,
            "right": null,
            "top": null,
            "visibility": null,
            "width": null
          }
        },
        "1efc48dd36f141f785c2691fa818813a": {
          "model_module": "@jupyter-widgets/controls",
          "model_name": "DescriptionStyleModel",
          "model_module_version": "1.5.0",
          "state": {
            "_model_module": "@jupyter-widgets/controls",
            "_model_module_version": "1.5.0",
            "_model_name": "DescriptionStyleModel",
            "_view_count": null,
            "_view_module": "@jupyter-widgets/base",
            "_view_module_version": "1.2.0",
            "_view_name": "StyleView",
            "description_width": ""
          }
        },
        "e6bd5da3318d432f8b047f895228dc2f": {
          "model_module": "@jupyter-widgets/base",
          "model_name": "LayoutModel",
          "model_module_version": "1.2.0",
          "state": {
            "_model_module": "@jupyter-widgets/base",
            "_model_module_version": "1.2.0",
            "_model_name": "LayoutModel",
            "_view_count": null,
            "_view_module": "@jupyter-widgets/base",
            "_view_module_version": "1.2.0",
            "_view_name": "LayoutView",
            "align_content": null,
            "align_items": null,
            "align_self": null,
            "border": null,
            "bottom": null,
            "display": null,
            "flex": null,
            "flex_flow": null,
            "grid_area": null,
            "grid_auto_columns": null,
            "grid_auto_flow": null,
            "grid_auto_rows": null,
            "grid_column": null,
            "grid_gap": null,
            "grid_row": null,
            "grid_template_areas": null,
            "grid_template_columns": null,
            "grid_template_rows": null,
            "height": null,
            "justify_content": null,
            "justify_items": null,
            "left": null,
            "margin": null,
            "max_height": null,
            "max_width": null,
            "min_height": null,
            "min_width": null,
            "object_fit": null,
            "object_position": null,
            "order": null,
            "overflow": null,
            "overflow_x": null,
            "overflow_y": null,
            "padding": null,
            "right": null,
            "top": null,
            "visibility": null,
            "width": null
          }
        },
        "2cd60c5cbcdd4f848401174a5912c8ee": {
          "model_module": "@jupyter-widgets/controls",
          "model_name": "DescriptionStyleModel",
          "model_module_version": "1.5.0",
          "state": {
            "_model_module": "@jupyter-widgets/controls",
            "_model_module_version": "1.5.0",
            "_model_name": "DescriptionStyleModel",
            "_view_count": null,
            "_view_module": "@jupyter-widgets/base",
            "_view_module_version": "1.2.0",
            "_view_name": "StyleView",
            "description_width": ""
          }
        },
        "abb23efaad8e4a6fa5e068dc9c5e6cbc": {
          "model_module": "@jupyter-widgets/base",
          "model_name": "LayoutModel",
          "model_module_version": "1.2.0",
          "state": {
            "_model_module": "@jupyter-widgets/base",
            "_model_module_version": "1.2.0",
            "_model_name": "LayoutModel",
            "_view_count": null,
            "_view_module": "@jupyter-widgets/base",
            "_view_module_version": "1.2.0",
            "_view_name": "LayoutView",
            "align_content": null,
            "align_items": null,
            "align_self": null,
            "border": null,
            "bottom": null,
            "display": null,
            "flex": null,
            "flex_flow": null,
            "grid_area": null,
            "grid_auto_columns": null,
            "grid_auto_flow": null,
            "grid_auto_rows": null,
            "grid_column": null,
            "grid_gap": null,
            "grid_row": null,
            "grid_template_areas": null,
            "grid_template_columns": null,
            "grid_template_rows": null,
            "height": null,
            "justify_content": null,
            "justify_items": null,
            "left": null,
            "margin": null,
            "max_height": null,
            "max_width": null,
            "min_height": null,
            "min_width": null,
            "object_fit": null,
            "object_position": null,
            "order": null,
            "overflow": null,
            "overflow_x": null,
            "overflow_y": null,
            "padding": null,
            "right": null,
            "top": null,
            "visibility": null,
            "width": null
          }
        },
        "c7d491caed074bc4b9a61650c3f90deb": {
          "model_module": "@jupyter-widgets/controls",
          "model_name": "DescriptionStyleModel",
          "model_module_version": "1.5.0",
          "state": {
            "_model_module": "@jupyter-widgets/controls",
            "_model_module_version": "1.5.0",
            "_model_name": "DescriptionStyleModel",
            "_view_count": null,
            "_view_module": "@jupyter-widgets/base",
            "_view_module_version": "1.2.0",
            "_view_name": "StyleView",
            "description_width": ""
          }
        },
        "801d08305e2444aeaf502353bd618984": {
          "model_module": "@jupyter-widgets/base",
          "model_name": "LayoutModel",
          "model_module_version": "1.2.0",
          "state": {
            "_model_module": "@jupyter-widgets/base",
            "_model_module_version": "1.2.0",
            "_model_name": "LayoutModel",
            "_view_count": null,
            "_view_module": "@jupyter-widgets/base",
            "_view_module_version": "1.2.0",
            "_view_name": "LayoutView",
            "align_content": null,
            "align_items": null,
            "align_self": null,
            "border": null,
            "bottom": null,
            "display": null,
            "flex": null,
            "flex_flow": null,
            "grid_area": null,
            "grid_auto_columns": null,
            "grid_auto_flow": null,
            "grid_auto_rows": null,
            "grid_column": null,
            "grid_gap": null,
            "grid_row": null,
            "grid_template_areas": null,
            "grid_template_columns": null,
            "grid_template_rows": null,
            "height": null,
            "justify_content": null,
            "justify_items": null,
            "left": null,
            "margin": null,
            "max_height": null,
            "max_width": null,
            "min_height": null,
            "min_width": null,
            "object_fit": null,
            "object_position": null,
            "order": null,
            "overflow": null,
            "overflow_x": null,
            "overflow_y": null,
            "padding": null,
            "right": null,
            "top": null,
            "visibility": null,
            "width": null
          }
        },
        "e67b694a87ff41758e73ba2bba02fe25": {
          "model_module": "@jupyter-widgets/controls",
          "model_name": "DescriptionStyleModel",
          "model_module_version": "1.5.0",
          "state": {
            "_model_module": "@jupyter-widgets/controls",
            "_model_module_version": "1.5.0",
            "_model_name": "DescriptionStyleModel",
            "_view_count": null,
            "_view_module": "@jupyter-widgets/base",
            "_view_module_version": "1.2.0",
            "_view_name": "StyleView",
            "description_width": ""
          }
        },
        "b3559f6dfe3f4a6ab9aeb15421358933": {
          "model_module": "@jupyter-widgets/base",
          "model_name": "LayoutModel",
          "model_module_version": "1.2.0",
          "state": {
            "_model_module": "@jupyter-widgets/base",
            "_model_module_version": "1.2.0",
            "_model_name": "LayoutModel",
            "_view_count": null,
            "_view_module": "@jupyter-widgets/base",
            "_view_module_version": "1.2.0",
            "_view_name": "LayoutView",
            "align_content": null,
            "align_items": null,
            "align_self": null,
            "border": null,
            "bottom": null,
            "display": null,
            "flex": null,
            "flex_flow": null,
            "grid_area": null,
            "grid_auto_columns": null,
            "grid_auto_flow": null,
            "grid_auto_rows": null,
            "grid_column": null,
            "grid_gap": null,
            "grid_row": null,
            "grid_template_areas": null,
            "grid_template_columns": null,
            "grid_template_rows": null,
            "height": null,
            "justify_content": null,
            "justify_items": null,
            "left": null,
            "margin": null,
            "max_height": null,
            "max_width": null,
            "min_height": null,
            "min_width": null,
            "object_fit": null,
            "object_position": null,
            "order": null,
            "overflow": null,
            "overflow_x": null,
            "overflow_y": null,
            "padding": null,
            "right": null,
            "top": null,
            "visibility": null,
            "width": null
          }
        },
        "bc65d4ec44a04b41bd186f24725c9586": {
          "model_module": "@jupyter-widgets/controls",
          "model_name": "DescriptionStyleModel",
          "model_module_version": "1.5.0",
          "state": {
            "_model_module": "@jupyter-widgets/controls",
            "_model_module_version": "1.5.0",
            "_model_name": "DescriptionStyleModel",
            "_view_count": null,
            "_view_module": "@jupyter-widgets/base",
            "_view_module_version": "1.2.0",
            "_view_name": "StyleView",
            "description_width": ""
          }
        },
        "6589962599464740ab5d660fe20a46fe": {
          "model_module": "@jupyter-widgets/base",
          "model_name": "LayoutModel",
          "model_module_version": "1.2.0",
          "state": {
            "_model_module": "@jupyter-widgets/base",
            "_model_module_version": "1.2.0",
            "_model_name": "LayoutModel",
            "_view_count": null,
            "_view_module": "@jupyter-widgets/base",
            "_view_module_version": "1.2.0",
            "_view_name": "LayoutView",
            "align_content": null,
            "align_items": null,
            "align_self": null,
            "border": null,
            "bottom": null,
            "display": null,
            "flex": null,
            "flex_flow": null,
            "grid_area": null,
            "grid_auto_columns": null,
            "grid_auto_flow": null,
            "grid_auto_rows": null,
            "grid_column": null,
            "grid_gap": null,
            "grid_row": null,
            "grid_template_areas": null,
            "grid_template_columns": null,
            "grid_template_rows": null,
            "height": null,
            "justify_content": null,
            "justify_items": null,
            "left": null,
            "margin": null,
            "max_height": null,
            "max_width": null,
            "min_height": null,
            "min_width": null,
            "object_fit": null,
            "object_position": null,
            "order": null,
            "overflow": null,
            "overflow_x": null,
            "overflow_y": null,
            "padding": null,
            "right": null,
            "top": null,
            "visibility": null,
            "width": null
          }
        },
        "ccfa3e0168164c349d64ae69d7797dac": {
          "model_module": "@jupyter-widgets/controls",
          "model_name": "DescriptionStyleModel",
          "model_module_version": "1.5.0",
          "state": {
            "_model_module": "@jupyter-widgets/controls",
            "_model_module_version": "1.5.0",
            "_model_name": "DescriptionStyleModel",
            "_view_count": null,
            "_view_module": "@jupyter-widgets/base",
            "_view_module_version": "1.2.0",
            "_view_name": "StyleView",
            "description_width": ""
          }
        },
        "4a5d44aa8d7644b687c93265eea94c5a": {
          "model_module": "@jupyter-widgets/base",
          "model_name": "LayoutModel",
          "model_module_version": "1.2.0",
          "state": {
            "_model_module": "@jupyter-widgets/base",
            "_model_module_version": "1.2.0",
            "_model_name": "LayoutModel",
            "_view_count": null,
            "_view_module": "@jupyter-widgets/base",
            "_view_module_version": "1.2.0",
            "_view_name": "LayoutView",
            "align_content": null,
            "align_items": null,
            "align_self": null,
            "border": null,
            "bottom": null,
            "display": null,
            "flex": null,
            "flex_flow": null,
            "grid_area": null,
            "grid_auto_columns": null,
            "grid_auto_flow": null,
            "grid_auto_rows": null,
            "grid_column": null,
            "grid_gap": null,
            "grid_row": null,
            "grid_template_areas": null,
            "grid_template_columns": null,
            "grid_template_rows": null,
            "height": null,
            "justify_content": null,
            "justify_items": null,
            "left": null,
            "margin": null,
            "max_height": null,
            "max_width": null,
            "min_height": null,
            "min_width": null,
            "object_fit": null,
            "object_position": null,
            "order": null,
            "overflow": null,
            "overflow_x": null,
            "overflow_y": null,
            "padding": null,
            "right": null,
            "top": null,
            "visibility": null,
            "width": null
          }
        },
        "3471fb25904f4b5faaf44699d3df1b82": {
          "model_module": "@jupyter-widgets/controls",
          "model_name": "VBoxModel",
          "model_module_version": "1.5.0",
          "state": {
            "_dom_classes": [
              "widget-interact"
            ],
            "_model_module": "@jupyter-widgets/controls",
            "_model_module_version": "1.5.0",
            "_model_name": "VBoxModel",
            "_view_count": null,
            "_view_module": "@jupyter-widgets/controls",
            "_view_module_version": "1.5.0",
            "_view_name": "VBoxView",
            "box_style": "",
            "children": [
              "IPY_MODEL_78c799d1253f431382353d9957a80a75",
              "IPY_MODEL_7a63f6be408542db84fe4cb6db7c4dac",
              "IPY_MODEL_04ea34a7aacd464fab3f7c6ef20eedc7",
              "IPY_MODEL_98740fba5cb34f729a356cd1d516ceb1",
              "IPY_MODEL_e1f22e7632044d12859117536e372f91",
              "IPY_MODEL_6d0d73f0eda74cae9e655ea40fc67c88",
              "IPY_MODEL_764404928f174ce0a460f9f61543f840",
              "IPY_MODEL_8688cf953d1c4db9a73723583fb4b1cd",
              "IPY_MODEL_df89caa056de421881b85ac8313752b9",
              "IPY_MODEL_bf83348382374fdcbaebe702215f24e7"
            ],
            "layout": "IPY_MODEL_ca8944862d9e4c36ad34e055eb481cf4"
          }
        },
        "78c799d1253f431382353d9957a80a75": {
          "model_module": "@jupyter-widgets/controls",
          "model_name": "IntSliderModel",
          "model_module_version": "1.5.0",
          "state": {
            "_dom_classes": [],
            "_model_module": "@jupyter-widgets/controls",
            "_model_module_version": "1.5.0",
            "_model_name": "IntSliderModel",
            "_view_count": null,
            "_view_module": "@jupyter-widgets/controls",
            "_view_module_version": "1.5.0",
            "_view_name": "IntSliderView",
            "continuous_update": true,
            "description": "number_of_music",
            "description_tooltip": null,
            "disabled": false,
            "layout": "IPY_MODEL_d6b27ac1cd844617aaa5c2cb4a75afb9",
            "max": 15,
            "min": 1,
            "orientation": "horizontal",
            "readout": true,
            "readout_format": "d",
            "step": 1,
            "style": "IPY_MODEL_06663c839e86490d8101925dc51e7fa3",
            "value": 5
          }
        },
        "7a63f6be408542db84fe4cb6db7c4dac": {
          "model_module": "@jupyter-widgets/controls",
          "model_name": "DropdownModel",
          "model_module_version": "1.5.0",
          "state": {
            "_dom_classes": [],
            "_model_module": "@jupyter-widgets/controls",
            "_model_module_version": "1.5.0",
            "_model_name": "DropdownModel",
            "_options_labels": [
              "valence",
              "acousticness",
              "danceability",
              "energy",
              "liveness",
              "speechiness",
              "instrumentalness",
              "loudness",
              "Nenhum"
            ],
            "_view_count": null,
            "_view_module": "@jupyter-widgets/controls",
            "_view_module_version": "1.5.0",
            "_view_name": "DropdownView",
            "description": "Feature 1",
            "description_tooltip": null,
            "disabled": false,
            "index": 0,
            "layout": "IPY_MODEL_fa4361e240124761adc5808ca3745f89",
            "style": "IPY_MODEL_fb52af0c9b484a219abdc479244679d9"
          }
        },
        "04ea34a7aacd464fab3f7c6ef20eedc7": {
          "model_module": "@jupyter-widgets/controls",
          "model_name": "DropdownModel",
          "model_module_version": "1.5.0",
          "state": {
            "_dom_classes": [],
            "_model_module": "@jupyter-widgets/controls",
            "_model_module_version": "1.5.0",
            "_model_name": "DropdownModel",
            "_options_labels": [
              "valence",
              "acousticness",
              "danceability",
              "energy",
              "liveness",
              "speechiness",
              "instrumentalness",
              "loudness",
              "Nenhum"
            ],
            "_view_count": null,
            "_view_module": "@jupyter-widgets/controls",
            "_view_module_version": "1.5.0",
            "_view_name": "DropdownView",
            "description": "Feature 2",
            "description_tooltip": null,
            "disabled": false,
            "index": 1,
            "layout": "IPY_MODEL_744286ffd87548c2a35a6bd625aa6b15",
            "style": "IPY_MODEL_3b190b7c55124d708c94b164b37ad9f9"
          }
        },
        "98740fba5cb34f729a356cd1d516ceb1": {
          "model_module": "@jupyter-widgets/controls",
          "model_name": "DropdownModel",
          "model_module_version": "1.5.0",
          "state": {
            "_dom_classes": [],
            "_model_module": "@jupyter-widgets/controls",
            "_model_module_version": "1.5.0",
            "_model_name": "DropdownModel",
            "_options_labels": [
              "valence",
              "acousticness",
              "danceability",
              "energy",
              "liveness",
              "speechiness",
              "instrumentalness",
              "loudness",
              "Nenhum"
            ],
            "_view_count": null,
            "_view_module": "@jupyter-widgets/controls",
            "_view_module_version": "1.5.0",
            "_view_name": "DropdownView",
            "description": "Feature 3",
            "description_tooltip": null,
            "disabled": false,
            "index": 2,
            "layout": "IPY_MODEL_2067a9edc91b4a84ba55f4257fb29261",
            "style": "IPY_MODEL_fe18427804e24673a9f0b22f33a5c16c"
          }
        },
        "e1f22e7632044d12859117536e372f91": {
          "model_module": "@jupyter-widgets/controls",
          "model_name": "DropdownModel",
          "model_module_version": "1.5.0",
          "state": {
            "_dom_classes": [],
            "_model_module": "@jupyter-widgets/controls",
            "_model_module_version": "1.5.0",
            "_model_name": "DropdownModel",
            "_options_labels": [
              "valence",
              "acousticness",
              "danceability",
              "energy",
              "liveness",
              "speechiness",
              "instrumentalness",
              "loudness",
              "Nenhum"
            ],
            "_view_count": null,
            "_view_module": "@jupyter-widgets/controls",
            "_view_module_version": "1.5.0",
            "_view_name": "DropdownView",
            "description": "Feature 4",
            "description_tooltip": null,
            "disabled": false,
            "index": 3,
            "layout": "IPY_MODEL_4a64ddc15a7149f495716e31a164f930",
            "style": "IPY_MODEL_fda1549dd05047ad83af109cac86aabd"
          }
        },
        "6d0d73f0eda74cae9e655ea40fc67c88": {
          "model_module": "@jupyter-widgets/controls",
          "model_name": "DropdownModel",
          "model_module_version": "1.5.0",
          "state": {
            "_dom_classes": [],
            "_model_module": "@jupyter-widgets/controls",
            "_model_module_version": "1.5.0",
            "_model_name": "DropdownModel",
            "_options_labels": [
              "valence",
              "acousticness",
              "danceability",
              "energy",
              "liveness",
              "speechiness",
              "instrumentalness",
              "loudness",
              "Nenhum"
            ],
            "_view_count": null,
            "_view_module": "@jupyter-widgets/controls",
            "_view_module_version": "1.5.0",
            "_view_name": "DropdownView",
            "description": "Feature 5",
            "description_tooltip": null,
            "disabled": false,
            "index": 4,
            "layout": "IPY_MODEL_dd197cdffca84d5599a41a211757866f",
            "style": "IPY_MODEL_eaeb92e078554ad2800ff3ef571ba393"
          }
        },
        "764404928f174ce0a460f9f61543f840": {
          "model_module": "@jupyter-widgets/controls",
          "model_name": "DropdownModel",
          "model_module_version": "1.5.0",
          "state": {
            "_dom_classes": [],
            "_model_module": "@jupyter-widgets/controls",
            "_model_module_version": "1.5.0",
            "_model_name": "DropdownModel",
            "_options_labels": [
              "valence",
              "acousticness",
              "danceability",
              "energy",
              "liveness",
              "speechiness",
              "instrumentalness",
              "loudness",
              "Nenhum"
            ],
            "_view_count": null,
            "_view_module": "@jupyter-widgets/controls",
            "_view_module_version": "1.5.0",
            "_view_name": "DropdownView",
            "description": "Feature 6",
            "description_tooltip": null,
            "disabled": false,
            "index": 5,
            "layout": "IPY_MODEL_8609f0058d7c457980f687b398a18dd2",
            "style": "IPY_MODEL_d5fca2df57d743e89c9bcdbe5b07b1cf"
          }
        },
        "8688cf953d1c4db9a73723583fb4b1cd": {
          "model_module": "@jupyter-widgets/controls",
          "model_name": "DropdownModel",
          "model_module_version": "1.5.0",
          "state": {
            "_dom_classes": [],
            "_model_module": "@jupyter-widgets/controls",
            "_model_module_version": "1.5.0",
            "_model_name": "DropdownModel",
            "_options_labels": [
              "valence",
              "acousticness",
              "danceability",
              "energy",
              "liveness",
              "speechiness",
              "instrumentalness",
              "loudness",
              "Nenhum"
            ],
            "_view_count": null,
            "_view_module": "@jupyter-widgets/controls",
            "_view_module_version": "1.5.0",
            "_view_name": "DropdownView",
            "description": "Feature 7",
            "description_tooltip": null,
            "disabled": false,
            "index": 6,
            "layout": "IPY_MODEL_934ef05e3c2e46f591bd18daa7315dcf",
            "style": "IPY_MODEL_ea4c744766ee46cbbc0881b4341e705f"
          }
        },
        "df89caa056de421881b85ac8313752b9": {
          "model_module": "@jupyter-widgets/controls",
          "model_name": "DropdownModel",
          "model_module_version": "1.5.0",
          "state": {
            "_dom_classes": [],
            "_model_module": "@jupyter-widgets/controls",
            "_model_module_version": "1.5.0",
            "_model_name": "DropdownModel",
            "_options_labels": [
              "valence",
              "acousticness",
              "danceability",
              "energy",
              "liveness",
              "speechiness",
              "instrumentalness",
              "loudness",
              "Nenhum"
            ],
            "_view_count": null,
            "_view_module": "@jupyter-widgets/controls",
            "_view_module_version": "1.5.0",
            "_view_name": "DropdownView",
            "description": "Feature 8",
            "description_tooltip": null,
            "disabled": false,
            "index": 7,
            "layout": "IPY_MODEL_dd2d02dcb68644169ced2b399afb0480",
            "style": "IPY_MODEL_ae2ff65c47724e7d9a8f5c911640ac5f"
          }
        },
        "bf83348382374fdcbaebe702215f24e7": {
          "model_module": "@jupyter-widgets/output",
          "model_name": "OutputModel",
          "model_module_version": "1.0.0",
          "state": {
            "_dom_classes": [],
            "_model_module": "@jupyter-widgets/output",
            "_model_module_version": "1.0.0",
            "_model_name": "OutputModel",
            "_view_count": null,
            "_view_module": "@jupyter-widgets/output",
            "_view_module_version": "1.0.0",
            "_view_name": "OutputView",
            "layout": "IPY_MODEL_91e02fe0eb3a4b9985035f2505937261",
            "msg_id": "",
            "outputs": [
              {
                "output_type": "display_data",
                "data": {
                  "text/html": "<html>\n<head><meta charset=\"utf-8\" /></head>\n<body>\n    <div>            <script src=\"https://cdnjs.cloudflare.com/ajax/libs/mathjax/2.7.5/MathJax.js?config=TeX-AMS-MML_SVG\"></script><script type=\"text/javascript\">if (window.MathJax) {MathJax.Hub.Config({SVG: {font: \"STIX-Web\"}});}</script>                <script type=\"text/javascript\">window.PlotlyConfig = {MathJaxConfig: 'local'};</script>\n        <script src=\"https://cdn.plot.ly/plotly-2.8.3.min.js\"></script>                <div id=\"39fb5232-c1ba-4a61-b630-0facbb759102\" class=\"plotly-graph-div\" style=\"height:400px; width:100%;\"></div>            <script type=\"text/javascript\">                                    window.PLOTLYENV=window.PLOTLYENV || {};                                    if (document.getElementById(\"39fb5232-c1ba-4a61-b630-0facbb759102\")) {                    Plotly.newPlot(                        \"39fb5232-c1ba-4a61-b630-0facbb759102\",                        [{\"fill\":\"toself\",\"legendgrouptitle\":{\"text\":\"M\\u00fasicas mais populares\"},\"name\":\"7 rings\",\"r\":[0.319,0.578,0.725,0.321,0.0884,0.323,0.0,0.7422109926869629,\"7 rings\",\"Ariana Grande\"],\"theta\":[\"valence\",\"acousticness\",\"danceability\",\"energy\",\"liveness\",\"speechiness\",\"instrumentalness\",\"loudness\"],\"type\":\"scatterpolar\"},{\"fill\":\"toself\",\"legendgrouptitle\":{\"text\":\"M\\u00fasicas mais populares\"},\"name\":\"break up with your girlfriend, i'm bored\",\"r\":[0.335,0.0421,0.726,0.554,0.106,0.0917,0.0,0.8392555292610452,\"break up with your girlfriend, i'm bored\",\"Ariana Grande\"],\"theta\":[\"valence\",\"acousticness\",\"danceability\",\"energy\",\"liveness\",\"speechiness\",\"instrumentalness\",\"loudness\"],\"type\":\"scatterpolar\"},{\"fill\":\"toself\",\"legendgrouptitle\":{\"text\":\"M\\u00fasicas mais populares\"},\"name\":\"Wow.\",\"r\":[0.385,0.163,0.833,0.539,0.101,0.178,2.1e-06,0.8017295065924094,\"Wow.\",\"Post Malone\"],\"theta\":[\"valence\",\"acousticness\",\"danceability\",\"energy\",\"liveness\",\"speechiness\",\"instrumentalness\",\"loudness\"],\"type\":\"scatterpolar\"},{\"fill\":\"toself\",\"legendgrouptitle\":{\"text\":\"M\\u00fasicas mais populares\"},\"name\":\"Con Calma\",\"r\":[0.656,0.11,0.737,0.86,0.0574,0.0593,1.94e-06,0.8861941958328143,\"Con Calma\",\"Daddy Yankee\"],\"theta\":[\"valence\",\"acousticness\",\"danceability\",\"energy\",\"liveness\",\"speechiness\",\"instrumentalness\",\"loudness\"],\"type\":\"scatterpolar\"},{\"fill\":\"toself\",\"legendgrouptitle\":{\"text\":\"M\\u00fasicas mais populares\"},\"name\":\"Happier\",\"r\":[0.671,0.191,0.687,0.792,0.167,0.0452,0.0,0.8844682478959449,\"Happier\",\"Marshmello\"],\"theta\":[\"valence\",\"acousticness\",\"danceability\",\"energy\",\"liveness\",\"speechiness\",\"instrumentalness\",\"loudness\"],\"type\":\"scatterpolar\"}],                        {\"template\":{\"data\":{\"bar\":[{\"error_x\":{\"color\":\"#2a3f5f\"},\"error_y\":{\"color\":\"#2a3f5f\"},\"marker\":{\"line\":{\"color\":\"#E5ECF6\",\"width\":0.5},\"pattern\":{\"fillmode\":\"overlay\",\"size\":10,\"solidity\":0.2}},\"type\":\"bar\"}],\"barpolar\":[{\"marker\":{\"line\":{\"color\":\"#E5ECF6\",\"width\":0.5},\"pattern\":{\"fillmode\":\"overlay\",\"size\":10,\"solidity\":0.2}},\"type\":\"barpolar\"}],\"carpet\":[{\"aaxis\":{\"endlinecolor\":\"#2a3f5f\",\"gridcolor\":\"white\",\"linecolor\":\"white\",\"minorgridcolor\":\"white\",\"startlinecolor\":\"#2a3f5f\"},\"baxis\":{\"endlinecolor\":\"#2a3f5f\",\"gridcolor\":\"white\",\"linecolor\":\"white\",\"minorgridcolor\":\"white\",\"startlinecolor\":\"#2a3f5f\"},\"type\":\"carpet\"}],\"choropleth\":[{\"colorbar\":{\"outlinewidth\":0,\"ticks\":\"\"},\"type\":\"choropleth\"}],\"contour\":[{\"colorbar\":{\"outlinewidth\":0,\"ticks\":\"\"},\"colorscale\":[[0.0,\"#0d0887\"],[0.1111111111111111,\"#46039f\"],[0.2222222222222222,\"#7201a8\"],[0.3333333333333333,\"#9c179e\"],[0.4444444444444444,\"#bd3786\"],[0.5555555555555556,\"#d8576b\"],[0.6666666666666666,\"#ed7953\"],[0.7777777777777778,\"#fb9f3a\"],[0.8888888888888888,\"#fdca26\"],[1.0,\"#f0f921\"]],\"type\":\"contour\"}],\"contourcarpet\":[{\"colorbar\":{\"outlinewidth\":0,\"ticks\":\"\"},\"type\":\"contourcarpet\"}],\"heatmap\":[{\"colorbar\":{\"outlinewidth\":0,\"ticks\":\"\"},\"colorscale\":[[0.0,\"#0d0887\"],[0.1111111111111111,\"#46039f\"],[0.2222222222222222,\"#7201a8\"],[0.3333333333333333,\"#9c179e\"],[0.4444444444444444,\"#bd3786\"],[0.5555555555555556,\"#d8576b\"],[0.6666666666666666,\"#ed7953\"],[0.7777777777777778,\"#fb9f3a\"],[0.8888888888888888,\"#fdca26\"],[1.0,\"#f0f921\"]],\"type\":\"heatmap\"}],\"heatmapgl\":[{\"colorbar\":{\"outlinewidth\":0,\"ticks\":\"\"},\"colorscale\":[[0.0,\"#0d0887\"],[0.1111111111111111,\"#46039f\"],[0.2222222222222222,\"#7201a8\"],[0.3333333333333333,\"#9c179e\"],[0.4444444444444444,\"#bd3786\"],[0.5555555555555556,\"#d8576b\"],[0.6666666666666666,\"#ed7953\"],[0.7777777777777778,\"#fb9f3a\"],[0.8888888888888888,\"#fdca26\"],[1.0,\"#f0f921\"]],\"type\":\"heatmapgl\"}],\"histogram\":[{\"marker\":{\"pattern\":{\"fillmode\":\"overlay\",\"size\":10,\"solidity\":0.2}},\"type\":\"histogram\"}],\"histogram2d\":[{\"colorbar\":{\"outlinewidth\":0,\"ticks\":\"\"},\"colorscale\":[[0.0,\"#0d0887\"],[0.1111111111111111,\"#46039f\"],[0.2222222222222222,\"#7201a8\"],[0.3333333333333333,\"#9c179e\"],[0.4444444444444444,\"#bd3786\"],[0.5555555555555556,\"#d8576b\"],[0.6666666666666666,\"#ed7953\"],[0.7777777777777778,\"#fb9f3a\"],[0.8888888888888888,\"#fdca26\"],[1.0,\"#f0f921\"]],\"type\":\"histogram2d\"}],\"histogram2dcontour\":[{\"colorbar\":{\"outlinewidth\":0,\"ticks\":\"\"},\"colorscale\":[[0.0,\"#0d0887\"],[0.1111111111111111,\"#46039f\"],[0.2222222222222222,\"#7201a8\"],[0.3333333333333333,\"#9c179e\"],[0.4444444444444444,\"#bd3786\"],[0.5555555555555556,\"#d8576b\"],[0.6666666666666666,\"#ed7953\"],[0.7777777777777778,\"#fb9f3a\"],[0.8888888888888888,\"#fdca26\"],[1.0,\"#f0f921\"]],\"type\":\"histogram2dcontour\"}],\"mesh3d\":[{\"colorbar\":{\"outlinewidth\":0,\"ticks\":\"\"},\"type\":\"mesh3d\"}],\"parcoords\":[{\"line\":{\"colorbar\":{\"outlinewidth\":0,\"ticks\":\"\"}},\"type\":\"parcoords\"}],\"pie\":[{\"automargin\":true,\"type\":\"pie\"}],\"scatter\":[{\"marker\":{\"colorbar\":{\"outlinewidth\":0,\"ticks\":\"\"}},\"type\":\"scatter\"}],\"scatter3d\":[{\"line\":{\"colorbar\":{\"outlinewidth\":0,\"ticks\":\"\"}},\"marker\":{\"colorbar\":{\"outlinewidth\":0,\"ticks\":\"\"}},\"type\":\"scatter3d\"}],\"scattercarpet\":[{\"marker\":{\"colorbar\":{\"outlinewidth\":0,\"ticks\":\"\"}},\"type\":\"scattercarpet\"}],\"scattergeo\":[{\"marker\":{\"colorbar\":{\"outlinewidth\":0,\"ticks\":\"\"}},\"type\":\"scattergeo\"}],\"scattergl\":[{\"marker\":{\"colorbar\":{\"outlinewidth\":0,\"ticks\":\"\"}},\"type\":\"scattergl\"}],\"scattermapbox\":[{\"marker\":{\"colorbar\":{\"outlinewidth\":0,\"ticks\":\"\"}},\"type\":\"scattermapbox\"}],\"scatterpolar\":[{\"marker\":{\"colorbar\":{\"outlinewidth\":0,\"ticks\":\"\"}},\"type\":\"scatterpolar\"}],\"scatterpolargl\":[{\"marker\":{\"colorbar\":{\"outlinewidth\":0,\"ticks\":\"\"}},\"type\":\"scatterpolargl\"}],\"scatterternary\":[{\"marker\":{\"colorbar\":{\"outlinewidth\":0,\"ticks\":\"\"}},\"type\":\"scatterternary\"}],\"surface\":[{\"colorbar\":{\"outlinewidth\":0,\"ticks\":\"\"},\"colorscale\":[[0.0,\"#0d0887\"],[0.1111111111111111,\"#46039f\"],[0.2222222222222222,\"#7201a8\"],[0.3333333333333333,\"#9c179e\"],[0.4444444444444444,\"#bd3786\"],[0.5555555555555556,\"#d8576b\"],[0.6666666666666666,\"#ed7953\"],[0.7777777777777778,\"#fb9f3a\"],[0.8888888888888888,\"#fdca26\"],[1.0,\"#f0f921\"]],\"type\":\"surface\"}],\"table\":[{\"cells\":{\"fill\":{\"color\":\"#EBF0F8\"},\"line\":{\"color\":\"white\"}},\"header\":{\"fill\":{\"color\":\"#C8D4E3\"},\"line\":{\"color\":\"white\"}},\"type\":\"table\"}]},\"layout\":{\"annotationdefaults\":{\"arrowcolor\":\"#2a3f5f\",\"arrowhead\":0,\"arrowwidth\":1},\"autotypenumbers\":\"strict\",\"coloraxis\":{\"colorbar\":{\"outlinewidth\":0,\"ticks\":\"\"}},\"colorscale\":{\"diverging\":[[0,\"#8e0152\"],[0.1,\"#c51b7d\"],[0.2,\"#de77ae\"],[0.3,\"#f1b6da\"],[0.4,\"#fde0ef\"],[0.5,\"#f7f7f7\"],[0.6,\"#e6f5d0\"],[0.7,\"#b8e186\"],[0.8,\"#7fbc41\"],[0.9,\"#4d9221\"],[1,\"#276419\"]],\"sequential\":[[0.0,\"#0d0887\"],[0.1111111111111111,\"#46039f\"],[0.2222222222222222,\"#7201a8\"],[0.3333333333333333,\"#9c179e\"],[0.4444444444444444,\"#bd3786\"],[0.5555555555555556,\"#d8576b\"],[0.6666666666666666,\"#ed7953\"],[0.7777777777777778,\"#fb9f3a\"],[0.8888888888888888,\"#fdca26\"],[1.0,\"#f0f921\"]],\"sequentialminus\":[[0.0,\"#0d0887\"],[0.1111111111111111,\"#46039f\"],[0.2222222222222222,\"#7201a8\"],[0.3333333333333333,\"#9c179e\"],[0.4444444444444444,\"#bd3786\"],[0.5555555555555556,\"#d8576b\"],[0.6666666666666666,\"#ed7953\"],[0.7777777777777778,\"#fb9f3a\"],[0.8888888888888888,\"#fdca26\"],[1.0,\"#f0f921\"]]},\"colorway\":[\"#636efa\",\"#EF553B\",\"#00cc96\",\"#ab63fa\",\"#FFA15A\",\"#19d3f3\",\"#FF6692\",\"#B6E880\",\"#FF97FF\",\"#FECB52\"],\"font\":{\"color\":\"#2a3f5f\"},\"geo\":{\"bgcolor\":\"white\",\"lakecolor\":\"white\",\"landcolor\":\"#E5ECF6\",\"showlakes\":true,\"showland\":true,\"subunitcolor\":\"white\"},\"hoverlabel\":{\"align\":\"left\"},\"hovermode\":\"closest\",\"mapbox\":{\"style\":\"light\"},\"paper_bgcolor\":\"white\",\"plot_bgcolor\":\"#E5ECF6\",\"polar\":{\"angularaxis\":{\"gridcolor\":\"white\",\"linecolor\":\"white\",\"ticks\":\"\"},\"bgcolor\":\"#E5ECF6\",\"radialaxis\":{\"gridcolor\":\"white\",\"linecolor\":\"white\",\"ticks\":\"\"}},\"scene\":{\"xaxis\":{\"backgroundcolor\":\"#E5ECF6\",\"gridcolor\":\"white\",\"gridwidth\":2,\"linecolor\":\"white\",\"showbackground\":true,\"ticks\":\"\",\"zerolinecolor\":\"white\"},\"yaxis\":{\"backgroundcolor\":\"#E5ECF6\",\"gridcolor\":\"white\",\"gridwidth\":2,\"linecolor\":\"white\",\"showbackground\":true,\"ticks\":\"\",\"zerolinecolor\":\"white\"},\"zaxis\":{\"backgroundcolor\":\"#E5ECF6\",\"gridcolor\":\"white\",\"gridwidth\":2,\"linecolor\":\"white\",\"showbackground\":true,\"ticks\":\"\",\"zerolinecolor\":\"white\"}},\"shapedefaults\":{\"line\":{\"color\":\"#2a3f5f\"}},\"ternary\":{\"aaxis\":{\"gridcolor\":\"white\",\"linecolor\":\"white\",\"ticks\":\"\"},\"baxis\":{\"gridcolor\":\"white\",\"linecolor\":\"white\",\"ticks\":\"\"},\"bgcolor\":\"#E5ECF6\",\"caxis\":{\"gridcolor\":\"white\",\"linecolor\":\"white\",\"ticks\":\"\"}},\"title\":{\"x\":0.05},\"xaxis\":{\"automargin\":true,\"gridcolor\":\"white\",\"linecolor\":\"white\",\"ticks\":\"\",\"title\":{\"standoff\":15},\"zerolinecolor\":\"white\",\"zerolinewidth\":2},\"yaxis\":{\"automargin\":true,\"gridcolor\":\"white\",\"linecolor\":\"white\",\"ticks\":\"\",\"title\":{\"standoff\":15},\"zerolinecolor\":\"white\",\"zerolinewidth\":2}}},\"font\":{\"color\":\"#808080\",\"size\":15},\"margin\":{\"l\":40,\"r\":40,\"t\":25,\"b\":25},\"polar\":{\"radialaxis\":{\"range\":[0,1],\"linecolor\":\"#808080\",\"gridcolor\":\"#808080\",\"tickcolor\":\"#808080\"},\"angularaxis\":{\"rotation\":120,\"direction\":\"clockwise\",\"linecolor\":\"#808080\",\"tickcolor\":\"#808080\",\"gridcolor\":\"#808080\"},\"bgcolor\":\"rgba(0,0,0,0)\"},\"autosize\":true,\"height\":400,\"paper_bgcolor\":\"rgba(0,0,0,0)\"},                        {\"responsive\": true}                    ).then(function(){\n                            \nvar gd = document.getElementById('39fb5232-c1ba-4a61-b630-0facbb759102');\nvar x = new MutationObserver(function (mutations, observer) {{\n        var display = window.getComputedStyle(gd).display;\n        if (!display || display === 'none') {{\n            console.log([gd, 'removed!']);\n            Plotly.purge(gd);\n            observer.disconnect();\n        }}\n}});\n\n// Listen for the removal of the full notebook cells\nvar notebookContainer = gd.closest('#notebook-container');\nif (notebookContainer) {{\n    x.observe(notebookContainer, {childList: true});\n}}\n\n// Listen for the clearing of the current output cell\nvar outputEl = gd.closest('.output');\nif (outputEl) {{\n    x.observe(outputEl, {childList: true});\n}}\n\n                        })                };                            </script>        </div>\n</body>\n</html>"
                },
                "metadata": {}
              }
            ]
          }
        },
        "ca8944862d9e4c36ad34e055eb481cf4": {
          "model_module": "@jupyter-widgets/base",
          "model_name": "LayoutModel",
          "model_module_version": "1.2.0",
          "state": {
            "_model_module": "@jupyter-widgets/base",
            "_model_module_version": "1.2.0",
            "_model_name": "LayoutModel",
            "_view_count": null,
            "_view_module": "@jupyter-widgets/base",
            "_view_module_version": "1.2.0",
            "_view_name": "LayoutView",
            "align_content": null,
            "align_items": null,
            "align_self": null,
            "border": null,
            "bottom": null,
            "display": null,
            "flex": null,
            "flex_flow": null,
            "grid_area": null,
            "grid_auto_columns": null,
            "grid_auto_flow": null,
            "grid_auto_rows": null,
            "grid_column": null,
            "grid_gap": null,
            "grid_row": null,
            "grid_template_areas": null,
            "grid_template_columns": null,
            "grid_template_rows": null,
            "height": null,
            "justify_content": null,
            "justify_items": null,
            "left": null,
            "margin": null,
            "max_height": null,
            "max_width": null,
            "min_height": null,
            "min_width": null,
            "object_fit": null,
            "object_position": null,
            "order": null,
            "overflow": null,
            "overflow_x": null,
            "overflow_y": null,
            "padding": null,
            "right": null,
            "top": null,
            "visibility": null,
            "width": null
          }
        },
        "d6b27ac1cd844617aaa5c2cb4a75afb9": {
          "model_module": "@jupyter-widgets/base",
          "model_name": "LayoutModel",
          "model_module_version": "1.2.0",
          "state": {
            "_model_module": "@jupyter-widgets/base",
            "_model_module_version": "1.2.0",
            "_model_name": "LayoutModel",
            "_view_count": null,
            "_view_module": "@jupyter-widgets/base",
            "_view_module_version": "1.2.0",
            "_view_name": "LayoutView",
            "align_content": null,
            "align_items": null,
            "align_self": null,
            "border": null,
            "bottom": null,
            "display": null,
            "flex": null,
            "flex_flow": null,
            "grid_area": null,
            "grid_auto_columns": null,
            "grid_auto_flow": null,
            "grid_auto_rows": null,
            "grid_column": null,
            "grid_gap": null,
            "grid_row": null,
            "grid_template_areas": null,
            "grid_template_columns": null,
            "grid_template_rows": null,
            "height": null,
            "justify_content": null,
            "justify_items": null,
            "left": null,
            "margin": null,
            "max_height": null,
            "max_width": null,
            "min_height": null,
            "min_width": null,
            "object_fit": null,
            "object_position": null,
            "order": null,
            "overflow": null,
            "overflow_x": null,
            "overflow_y": null,
            "padding": null,
            "right": null,
            "top": null,
            "visibility": null,
            "width": null
          }
        },
        "06663c839e86490d8101925dc51e7fa3": {
          "model_module": "@jupyter-widgets/controls",
          "model_name": "SliderStyleModel",
          "model_module_version": "1.5.0",
          "state": {
            "_model_module": "@jupyter-widgets/controls",
            "_model_module_version": "1.5.0",
            "_model_name": "SliderStyleModel",
            "_view_count": null,
            "_view_module": "@jupyter-widgets/base",
            "_view_module_version": "1.2.0",
            "_view_name": "StyleView",
            "description_width": "",
            "handle_color": null
          }
        },
        "fa4361e240124761adc5808ca3745f89": {
          "model_module": "@jupyter-widgets/base",
          "model_name": "LayoutModel",
          "model_module_version": "1.2.0",
          "state": {
            "_model_module": "@jupyter-widgets/base",
            "_model_module_version": "1.2.0",
            "_model_name": "LayoutModel",
            "_view_count": null,
            "_view_module": "@jupyter-widgets/base",
            "_view_module_version": "1.2.0",
            "_view_name": "LayoutView",
            "align_content": null,
            "align_items": null,
            "align_self": null,
            "border": null,
            "bottom": null,
            "display": null,
            "flex": null,
            "flex_flow": null,
            "grid_area": null,
            "grid_auto_columns": null,
            "grid_auto_flow": null,
            "grid_auto_rows": null,
            "grid_column": null,
            "grid_gap": null,
            "grid_row": null,
            "grid_template_areas": null,
            "grid_template_columns": null,
            "grid_template_rows": null,
            "height": null,
            "justify_content": null,
            "justify_items": null,
            "left": null,
            "margin": null,
            "max_height": null,
            "max_width": null,
            "min_height": null,
            "min_width": null,
            "object_fit": null,
            "object_position": null,
            "order": null,
            "overflow": null,
            "overflow_x": null,
            "overflow_y": null,
            "padding": null,
            "right": null,
            "top": null,
            "visibility": null,
            "width": null
          }
        },
        "fb52af0c9b484a219abdc479244679d9": {
          "model_module": "@jupyter-widgets/controls",
          "model_name": "DescriptionStyleModel",
          "model_module_version": "1.5.0",
          "state": {
            "_model_module": "@jupyter-widgets/controls",
            "_model_module_version": "1.5.0",
            "_model_name": "DescriptionStyleModel",
            "_view_count": null,
            "_view_module": "@jupyter-widgets/base",
            "_view_module_version": "1.2.0",
            "_view_name": "StyleView",
            "description_width": ""
          }
        },
        "744286ffd87548c2a35a6bd625aa6b15": {
          "model_module": "@jupyter-widgets/base",
          "model_name": "LayoutModel",
          "model_module_version": "1.2.0",
          "state": {
            "_model_module": "@jupyter-widgets/base",
            "_model_module_version": "1.2.0",
            "_model_name": "LayoutModel",
            "_view_count": null,
            "_view_module": "@jupyter-widgets/base",
            "_view_module_version": "1.2.0",
            "_view_name": "LayoutView",
            "align_content": null,
            "align_items": null,
            "align_self": null,
            "border": null,
            "bottom": null,
            "display": null,
            "flex": null,
            "flex_flow": null,
            "grid_area": null,
            "grid_auto_columns": null,
            "grid_auto_flow": null,
            "grid_auto_rows": null,
            "grid_column": null,
            "grid_gap": null,
            "grid_row": null,
            "grid_template_areas": null,
            "grid_template_columns": null,
            "grid_template_rows": null,
            "height": null,
            "justify_content": null,
            "justify_items": null,
            "left": null,
            "margin": null,
            "max_height": null,
            "max_width": null,
            "min_height": null,
            "min_width": null,
            "object_fit": null,
            "object_position": null,
            "order": null,
            "overflow": null,
            "overflow_x": null,
            "overflow_y": null,
            "padding": null,
            "right": null,
            "top": null,
            "visibility": null,
            "width": null
          }
        },
        "3b190b7c55124d708c94b164b37ad9f9": {
          "model_module": "@jupyter-widgets/controls",
          "model_name": "DescriptionStyleModel",
          "model_module_version": "1.5.0",
          "state": {
            "_model_module": "@jupyter-widgets/controls",
            "_model_module_version": "1.5.0",
            "_model_name": "DescriptionStyleModel",
            "_view_count": null,
            "_view_module": "@jupyter-widgets/base",
            "_view_module_version": "1.2.0",
            "_view_name": "StyleView",
            "description_width": ""
          }
        },
        "2067a9edc91b4a84ba55f4257fb29261": {
          "model_module": "@jupyter-widgets/base",
          "model_name": "LayoutModel",
          "model_module_version": "1.2.0",
          "state": {
            "_model_module": "@jupyter-widgets/base",
            "_model_module_version": "1.2.0",
            "_model_name": "LayoutModel",
            "_view_count": null,
            "_view_module": "@jupyter-widgets/base",
            "_view_module_version": "1.2.0",
            "_view_name": "LayoutView",
            "align_content": null,
            "align_items": null,
            "align_self": null,
            "border": null,
            "bottom": null,
            "display": null,
            "flex": null,
            "flex_flow": null,
            "grid_area": null,
            "grid_auto_columns": null,
            "grid_auto_flow": null,
            "grid_auto_rows": null,
            "grid_column": null,
            "grid_gap": null,
            "grid_row": null,
            "grid_template_areas": null,
            "grid_template_columns": null,
            "grid_template_rows": null,
            "height": null,
            "justify_content": null,
            "justify_items": null,
            "left": null,
            "margin": null,
            "max_height": null,
            "max_width": null,
            "min_height": null,
            "min_width": null,
            "object_fit": null,
            "object_position": null,
            "order": null,
            "overflow": null,
            "overflow_x": null,
            "overflow_y": null,
            "padding": null,
            "right": null,
            "top": null,
            "visibility": null,
            "width": null
          }
        },
        "fe18427804e24673a9f0b22f33a5c16c": {
          "model_module": "@jupyter-widgets/controls",
          "model_name": "DescriptionStyleModel",
          "model_module_version": "1.5.0",
          "state": {
            "_model_module": "@jupyter-widgets/controls",
            "_model_module_version": "1.5.0",
            "_model_name": "DescriptionStyleModel",
            "_view_count": null,
            "_view_module": "@jupyter-widgets/base",
            "_view_module_version": "1.2.0",
            "_view_name": "StyleView",
            "description_width": ""
          }
        },
        "4a64ddc15a7149f495716e31a164f930": {
          "model_module": "@jupyter-widgets/base",
          "model_name": "LayoutModel",
          "model_module_version": "1.2.0",
          "state": {
            "_model_module": "@jupyter-widgets/base",
            "_model_module_version": "1.2.0",
            "_model_name": "LayoutModel",
            "_view_count": null,
            "_view_module": "@jupyter-widgets/base",
            "_view_module_version": "1.2.0",
            "_view_name": "LayoutView",
            "align_content": null,
            "align_items": null,
            "align_self": null,
            "border": null,
            "bottom": null,
            "display": null,
            "flex": null,
            "flex_flow": null,
            "grid_area": null,
            "grid_auto_columns": null,
            "grid_auto_flow": null,
            "grid_auto_rows": null,
            "grid_column": null,
            "grid_gap": null,
            "grid_row": null,
            "grid_template_areas": null,
            "grid_template_columns": null,
            "grid_template_rows": null,
            "height": null,
            "justify_content": null,
            "justify_items": null,
            "left": null,
            "margin": null,
            "max_height": null,
            "max_width": null,
            "min_height": null,
            "min_width": null,
            "object_fit": null,
            "object_position": null,
            "order": null,
            "overflow": null,
            "overflow_x": null,
            "overflow_y": null,
            "padding": null,
            "right": null,
            "top": null,
            "visibility": null,
            "width": null
          }
        },
        "fda1549dd05047ad83af109cac86aabd": {
          "model_module": "@jupyter-widgets/controls",
          "model_name": "DescriptionStyleModel",
          "model_module_version": "1.5.0",
          "state": {
            "_model_module": "@jupyter-widgets/controls",
            "_model_module_version": "1.5.0",
            "_model_name": "DescriptionStyleModel",
            "_view_count": null,
            "_view_module": "@jupyter-widgets/base",
            "_view_module_version": "1.2.0",
            "_view_name": "StyleView",
            "description_width": ""
          }
        },
        "dd197cdffca84d5599a41a211757866f": {
          "model_module": "@jupyter-widgets/base",
          "model_name": "LayoutModel",
          "model_module_version": "1.2.0",
          "state": {
            "_model_module": "@jupyter-widgets/base",
            "_model_module_version": "1.2.0",
            "_model_name": "LayoutModel",
            "_view_count": null,
            "_view_module": "@jupyter-widgets/base",
            "_view_module_version": "1.2.0",
            "_view_name": "LayoutView",
            "align_content": null,
            "align_items": null,
            "align_self": null,
            "border": null,
            "bottom": null,
            "display": null,
            "flex": null,
            "flex_flow": null,
            "grid_area": null,
            "grid_auto_columns": null,
            "grid_auto_flow": null,
            "grid_auto_rows": null,
            "grid_column": null,
            "grid_gap": null,
            "grid_row": null,
            "grid_template_areas": null,
            "grid_template_columns": null,
            "grid_template_rows": null,
            "height": null,
            "justify_content": null,
            "justify_items": null,
            "left": null,
            "margin": null,
            "max_height": null,
            "max_width": null,
            "min_height": null,
            "min_width": null,
            "object_fit": null,
            "object_position": null,
            "order": null,
            "overflow": null,
            "overflow_x": null,
            "overflow_y": null,
            "padding": null,
            "right": null,
            "top": null,
            "visibility": null,
            "width": null
          }
        },
        "eaeb92e078554ad2800ff3ef571ba393": {
          "model_module": "@jupyter-widgets/controls",
          "model_name": "DescriptionStyleModel",
          "model_module_version": "1.5.0",
          "state": {
            "_model_module": "@jupyter-widgets/controls",
            "_model_module_version": "1.5.0",
            "_model_name": "DescriptionStyleModel",
            "_view_count": null,
            "_view_module": "@jupyter-widgets/base",
            "_view_module_version": "1.2.0",
            "_view_name": "StyleView",
            "description_width": ""
          }
        },
        "8609f0058d7c457980f687b398a18dd2": {
          "model_module": "@jupyter-widgets/base",
          "model_name": "LayoutModel",
          "model_module_version": "1.2.0",
          "state": {
            "_model_module": "@jupyter-widgets/base",
            "_model_module_version": "1.2.0",
            "_model_name": "LayoutModel",
            "_view_count": null,
            "_view_module": "@jupyter-widgets/base",
            "_view_module_version": "1.2.0",
            "_view_name": "LayoutView",
            "align_content": null,
            "align_items": null,
            "align_self": null,
            "border": null,
            "bottom": null,
            "display": null,
            "flex": null,
            "flex_flow": null,
            "grid_area": null,
            "grid_auto_columns": null,
            "grid_auto_flow": null,
            "grid_auto_rows": null,
            "grid_column": null,
            "grid_gap": null,
            "grid_row": null,
            "grid_template_areas": null,
            "grid_template_columns": null,
            "grid_template_rows": null,
            "height": null,
            "justify_content": null,
            "justify_items": null,
            "left": null,
            "margin": null,
            "max_height": null,
            "max_width": null,
            "min_height": null,
            "min_width": null,
            "object_fit": null,
            "object_position": null,
            "order": null,
            "overflow": null,
            "overflow_x": null,
            "overflow_y": null,
            "padding": null,
            "right": null,
            "top": null,
            "visibility": null,
            "width": null
          }
        },
        "d5fca2df57d743e89c9bcdbe5b07b1cf": {
          "model_module": "@jupyter-widgets/controls",
          "model_name": "DescriptionStyleModel",
          "model_module_version": "1.5.0",
          "state": {
            "_model_module": "@jupyter-widgets/controls",
            "_model_module_version": "1.5.0",
            "_model_name": "DescriptionStyleModel",
            "_view_count": null,
            "_view_module": "@jupyter-widgets/base",
            "_view_module_version": "1.2.0",
            "_view_name": "StyleView",
            "description_width": ""
          }
        },
        "934ef05e3c2e46f591bd18daa7315dcf": {
          "model_module": "@jupyter-widgets/base",
          "model_name": "LayoutModel",
          "model_module_version": "1.2.0",
          "state": {
            "_model_module": "@jupyter-widgets/base",
            "_model_module_version": "1.2.0",
            "_model_name": "LayoutModel",
            "_view_count": null,
            "_view_module": "@jupyter-widgets/base",
            "_view_module_version": "1.2.0",
            "_view_name": "LayoutView",
            "align_content": null,
            "align_items": null,
            "align_self": null,
            "border": null,
            "bottom": null,
            "display": null,
            "flex": null,
            "flex_flow": null,
            "grid_area": null,
            "grid_auto_columns": null,
            "grid_auto_flow": null,
            "grid_auto_rows": null,
            "grid_column": null,
            "grid_gap": null,
            "grid_row": null,
            "grid_template_areas": null,
            "grid_template_columns": null,
            "grid_template_rows": null,
            "height": null,
            "justify_content": null,
            "justify_items": null,
            "left": null,
            "margin": null,
            "max_height": null,
            "max_width": null,
            "min_height": null,
            "min_width": null,
            "object_fit": null,
            "object_position": null,
            "order": null,
            "overflow": null,
            "overflow_x": null,
            "overflow_y": null,
            "padding": null,
            "right": null,
            "top": null,
            "visibility": null,
            "width": null
          }
        },
        "ea4c744766ee46cbbc0881b4341e705f": {
          "model_module": "@jupyter-widgets/controls",
          "model_name": "DescriptionStyleModel",
          "model_module_version": "1.5.0",
          "state": {
            "_model_module": "@jupyter-widgets/controls",
            "_model_module_version": "1.5.0",
            "_model_name": "DescriptionStyleModel",
            "_view_count": null,
            "_view_module": "@jupyter-widgets/base",
            "_view_module_version": "1.2.0",
            "_view_name": "StyleView",
            "description_width": ""
          }
        },
        "dd2d02dcb68644169ced2b399afb0480": {
          "model_module": "@jupyter-widgets/base",
          "model_name": "LayoutModel",
          "model_module_version": "1.2.0",
          "state": {
            "_model_module": "@jupyter-widgets/base",
            "_model_module_version": "1.2.0",
            "_model_name": "LayoutModel",
            "_view_count": null,
            "_view_module": "@jupyter-widgets/base",
            "_view_module_version": "1.2.0",
            "_view_name": "LayoutView",
            "align_content": null,
            "align_items": null,
            "align_self": null,
            "border": null,
            "bottom": null,
            "display": null,
            "flex": null,
            "flex_flow": null,
            "grid_area": null,
            "grid_auto_columns": null,
            "grid_auto_flow": null,
            "grid_auto_rows": null,
            "grid_column": null,
            "grid_gap": null,
            "grid_row": null,
            "grid_template_areas": null,
            "grid_template_columns": null,
            "grid_template_rows": null,
            "height": null,
            "justify_content": null,
            "justify_items": null,
            "left": null,
            "margin": null,
            "max_height": null,
            "max_width": null,
            "min_height": null,
            "min_width": null,
            "object_fit": null,
            "object_position": null,
            "order": null,
            "overflow": null,
            "overflow_x": null,
            "overflow_y": null,
            "padding": null,
            "right": null,
            "top": null,
            "visibility": null,
            "width": null
          }
        },
        "ae2ff65c47724e7d9a8f5c911640ac5f": {
          "model_module": "@jupyter-widgets/controls",
          "model_name": "DescriptionStyleModel",
          "model_module_version": "1.5.0",
          "state": {
            "_model_module": "@jupyter-widgets/controls",
            "_model_module_version": "1.5.0",
            "_model_name": "DescriptionStyleModel",
            "_view_count": null,
            "_view_module": "@jupyter-widgets/base",
            "_view_module_version": "1.2.0",
            "_view_name": "StyleView",
            "description_width": ""
          }
        },
        "91e02fe0eb3a4b9985035f2505937261": {
          "model_module": "@jupyter-widgets/base",
          "model_name": "LayoutModel",
          "model_module_version": "1.2.0",
          "state": {
            "_model_module": "@jupyter-widgets/base",
            "_model_module_version": "1.2.0",
            "_model_name": "LayoutModel",
            "_view_count": null,
            "_view_module": "@jupyter-widgets/base",
            "_view_module_version": "1.2.0",
            "_view_name": "LayoutView",
            "align_content": null,
            "align_items": null,
            "align_self": null,
            "border": null,
            "bottom": null,
            "display": null,
            "flex": null,
            "flex_flow": null,
            "grid_area": null,
            "grid_auto_columns": null,
            "grid_auto_flow": null,
            "grid_auto_rows": null,
            "grid_column": null,
            "grid_gap": null,
            "grid_row": null,
            "grid_template_areas": null,
            "grid_template_columns": null,
            "grid_template_rows": null,
            "height": null,
            "justify_content": null,
            "justify_items": null,
            "left": null,
            "margin": null,
            "max_height": null,
            "max_width": null,
            "min_height": null,
            "min_width": null,
            "object_fit": null,
            "object_position": null,
            "order": null,
            "overflow": null,
            "overflow_x": null,
            "overflow_y": null,
            "padding": null,
            "right": null,
            "top": null,
            "visibility": null,
            "width": null
          }
        },
        "5625c1432ccf44fabcba3758cdfb52fc": {
          "model_module": "@jupyter-widgets/controls",
          "model_name": "VBoxModel",
          "model_module_version": "1.5.0",
          "state": {
            "_dom_classes": [
              "widget-interact"
            ],
            "_model_module": "@jupyter-widgets/controls",
            "_model_module_version": "1.5.0",
            "_model_name": "VBoxModel",
            "_view_count": null,
            "_view_module": "@jupyter-widgets/controls",
            "_view_module_version": "1.5.0",
            "_view_name": "VBoxView",
            "box_style": "",
            "children": [
              "IPY_MODEL_636c1f77accb457d93ec6ff6d5a0f4f5",
              "IPY_MODEL_55ac30a64886442285f34f4e5f501246",
              "IPY_MODEL_4e5044627d1a4c7abf3f31486e0b9479"
            ],
            "layout": "IPY_MODEL_c69f8e4f3a9b43479133aacf93e8c3c4"
          }
        },
        "636c1f77accb457d93ec6ff6d5a0f4f5": {
          "model_module": "@jupyter-widgets/controls",
          "model_name": "DropdownModel",
          "model_module_version": "1.5.0",
          "state": {
            "_dom_classes": [],
            "_model_module": "@jupyter-widgets/controls",
            "_model_module_version": "1.5.0",
            "_model_name": "DropdownModel",
            "_options_labels": [
              "Hierarquia por Artista",
              "Hierarquia por Gênero Musical"
            ],
            "_view_count": null,
            "_view_module": "@jupyter-widgets/controls",
            "_view_module_version": "1.5.0",
            "_view_name": "DropdownView",
            "description": "Selecione:",
            "description_tooltip": null,
            "disabled": false,
            "index": 0,
            "layout": "IPY_MODEL_c71f1c63e6be449e8e9d035fc826f06e",
            "style": "IPY_MODEL_efa596ea0807456584208b28b75a40ba"
          }
        },
        "55ac30a64886442285f34f4e5f501246": {
          "model_module": "@jupyter-widgets/controls",
          "model_name": "IntSliderModel",
          "model_module_version": "1.5.0",
          "state": {
            "_dom_classes": [],
            "_model_module": "@jupyter-widgets/controls",
            "_model_module_version": "1.5.0",
            "_model_name": "IntSliderModel",
            "_view_count": null,
            "_view_module": "@jupyter-widgets/controls",
            "_view_module_version": "1.5.0",
            "_view_name": "IntSliderView",
            "continuous_update": true,
            "description": "N° músicas",
            "description_tooltip": null,
            "disabled": false,
            "layout": "IPY_MODEL_52dcf3abf9ee4bda8309d3fc3762da1d",
            "max": 100,
            "min": 5,
            "orientation": "horizontal",
            "readout": true,
            "readout_format": "d",
            "step": 5,
            "style": "IPY_MODEL_4b94322e706b4775983e7b0e1d06874a",
            "value": 25
          }
        },
        "4e5044627d1a4c7abf3f31486e0b9479": {
          "model_module": "@jupyter-widgets/output",
          "model_name": "OutputModel",
          "model_module_version": "1.0.0",
          "state": {
            "_dom_classes": [],
            "_model_module": "@jupyter-widgets/output",
            "_model_module_version": "1.0.0",
            "_model_name": "OutputModel",
            "_view_count": null,
            "_view_module": "@jupyter-widgets/output",
            "_view_module_version": "1.0.0",
            "_view_name": "OutputView",
            "layout": "IPY_MODEL_8daca830767e41bbb6e1e2b98522ed05",
            "msg_id": "",
            "outputs": [
              {
                "output_type": "display_data",
                "data": {
                  "text/html": "<html>\n<head><meta charset=\"utf-8\" /></head>\n<body>\n    <div>            <script src=\"https://cdnjs.cloudflare.com/ajax/libs/mathjax/2.7.5/MathJax.js?config=TeX-AMS-MML_SVG\"></script><script type=\"text/javascript\">if (window.MathJax) {MathJax.Hub.Config({SVG: {font: \"STIX-Web\"}});}</script>                <script type=\"text/javascript\">window.PlotlyConfig = {MathJaxConfig: 'local'};</script>\n        <script src=\"https://cdn.plot.ly/plotly-2.8.3.min.js\"></script>                <div id=\"0ef240e5-b608-4bb0-8eb1-dce8a9a71e34\" class=\"plotly-graph-div\" style=\"height:700px; width:900px;\"></div>            <script type=\"text/javascript\">                                    window.PLOTLYENV=window.PLOTLYENV || {};                                    if (document.getElementById(\"0ef240e5-b608-4bb0-8eb1-dce8a9a71e34\")) {                    Plotly.newPlot(                        \"0ef240e5-b608-4bb0-8eb1-dce8a9a71e34\",                        [{\"branchvalues\":\"total\",\"customdata\":[[1.0],[0.9500000000000001],[0.9500000000000001],[0.97],[0.98],[0.97],[0.93],[0.94],[0.9500000000000001],[0.97],[0.9500000000000001],[0.9500000000000001],[0.96],[0.94],[0.96],[0.9500000000000001],[0.97],[0.97],[0.96],[0.94],[0.93],[0.97],[0.99],[0.99],[0.9500000000000001],[0.96],[0.9804761904761905],[0.97],[0.9500000000000001],[0.93],[0.94],[0.96],[0.98],[0.97],[0.96],[0.94],[0.9500000000000001],[0.97],[0.93],[0.9500000000000001],[0.9500000000000001],[0.9500000000000001],[0.9500000000000001],[0.97],[0.9801020408163265],[0.97],[0.94]],\"domain\":{\"x\":[0.0,1.0],\"y\":[0.0,1.0]},\"hovertemplate\":\"<b>%{hovertext}</b><br><br>labels=%{label}<br>popularity_sum=%{value}<br>parent=%{parent}<br>id=%{id}<br>popularity=%{color}<extra></extra>\",\"hovertext\":[\"Ariana Grande\",\"Paulo Londra\",\"Ozuna\",\"Pedro Cap\\u00f3\",\"Daddy Yankee\",\"Sam Smith\",\"Mau y Ricky\",\"Calvin Harris\",\"Meek Mill\",\"Marshmello\",\"Panic! At The Disco\",\"Bad Bunny\",\"J. Cole\",\"Travis Scott\",\"Anuel Aa\",\"Lady Gaga\",\"Post Malone\",\"Ava Max\",\"DJ Snake\",\"Khalid\",\"Blueface\",\"Halsey\",\"Post Malone\",\"Ariana Grande\",\"Ariana Grande\",\"Anuel Aa\",\"Ariana Grande\",\"Ava Max\",\"Bad Bunny\",\"Blueface\",\"Calvin Harris\",\"DJ Snake\",\"Daddy Yankee\",\"Halsey\",\"J. Cole\",\"Khalid\",\"Lady Gaga\",\"Marshmello\",\"Mau y Ricky\",\"Meek Mill\",\"Ozuna\",\"Panic! At The Disco\",\"Paulo Londra\",\"Pedro Cap\\u00f3\",\"Post Malone\",\"Sam Smith\",\"Travis Scott\"],\"ids\":[\"Ariana Grande/7 rings\",\"Paulo Londra/Adan y Eva\",\"Ozuna/Baila Baila Baila\",\"Pedro Cap\\u00f3/Calma - Remix\",\"Daddy Yankee/Con Calma\",\"Sam Smith/Dancing With A Stranger (with Normani)\",\"Mau y Ricky/Desconocidos\",\"Calvin Harris/Giant (with Rag'n'Bone Man)\",\"Meek Mill/Going Bad (feat. Drake)\",\"Marshmello/Happier\",\"Panic! At The Disco/High Hopes\",\"Bad Bunny/MIA (feat. Drake)\",\"J. Cole/MIDDLE CHILD\",\"Travis Scott/SICKO MODE\",\"Anuel Aa/Secreto\",\"Lady Gaga/Shallow\",\"Post Malone/Sunflower - Spider-Man: Into the Spider-Verse\",\"Ava Max/Sweet but Psycho\",\"DJ Snake/Taki Taki (with Selena Gomez, Ozuna & Cardi B)\",\"Khalid/Talk\",\"Blueface/Thotiana\",\"Halsey/Without Me\",\"Post Malone/Wow.\",\"Ariana Grande/break up with your girlfriend, i'm bored\",\"Ariana Grande/thank u, next\",\"Anuel Aa\",\"Ariana Grande\",\"Ava Max\",\"Bad Bunny\",\"Blueface\",\"Calvin Harris\",\"DJ Snake\",\"Daddy Yankee\",\"Halsey\",\"J. Cole\",\"Khalid\",\"Lady Gaga\",\"Marshmello\",\"Mau y Ricky\",\"Meek Mill\",\"Ozuna\",\"Panic! At The Disco\",\"Paulo Londra\",\"Pedro Cap\\u00f3\",\"Post Malone\",\"Sam Smith\",\"Travis Scott\"],\"labels\":[\"7 rings\",\"Adan y Eva\",\"Baila Baila Baila\",\"Calma - Remix\",\"Con Calma\",\"Dancing With A Stranger (with Normani)\",\"Desconocidos\",\"Giant (with Rag'n'Bone Man)\",\"Going Bad (feat. Drake)\",\"Happier\",\"High Hopes\",\"MIA (feat. Drake)\",\"MIDDLE CHILD\",\"SICKO MODE\",\"Secreto\",\"Shallow\",\"Sunflower - Spider-Man: Into the Spider-Verse\",\"Sweet but Psycho\",\"Taki Taki (with Selena Gomez, Ozuna & Cardi B)\",\"Talk\",\"Thotiana\",\"Without Me\",\"Wow.\",\"break up with your girlfriend, i'm bored\",\"thank u, next\",\"Anuel Aa\",\"Ariana Grande\",\"Ava Max\",\"Bad Bunny\",\"Blueface\",\"Calvin Harris\",\"DJ Snake\",\"Daddy Yankee\",\"Halsey\",\"J. Cole\",\"Khalid\",\"Lady Gaga\",\"Marshmello\",\"Mau y Ricky\",\"Meek Mill\",\"Ozuna\",\"Panic! At The Disco\",\"Paulo Londra\",\"Pedro Cap\\u00f3\",\"Post Malone\",\"Sam Smith\",\"Travis Scott\"],\"marker\":{\"coloraxis\":\"coloraxis\",\"colors\":[1.0,0.9500000000000001,0.9500000000000001,0.97,0.98,0.97,0.93,0.94,0.9500000000000001,0.97,0.9500000000000001,0.9500000000000001,0.96,0.94,0.96,0.9500000000000001,0.97,0.97,0.96,0.94,0.93,0.97,0.99,0.99,0.9500000000000001,0.96,0.9804761904761905,0.97,0.9500000000000001,0.93,0.94,0.96,0.98,0.97,0.96,0.94,0.9500000000000001,0.97,0.93,0.9500000000000001,0.9500000000000001,0.9500000000000001,0.9500000000000001,0.97,0.9801020408163265,0.97,0.94]},\"name\":\"\",\"parents\":[\"Ariana Grande\",\"Paulo Londra\",\"Ozuna\",\"Pedro Cap\\u00f3\",\"Daddy Yankee\",\"Sam Smith\",\"Mau y Ricky\",\"Calvin Harris\",\"Meek Mill\",\"Marshmello\",\"Panic! At The Disco\",\"Bad Bunny\",\"J. Cole\",\"Travis Scott\",\"Anuel Aa\",\"Lady Gaga\",\"Post Malone\",\"Ava Max\",\"DJ Snake\",\"Khalid\",\"Blueface\",\"Halsey\",\"Post Malone\",\"Ariana Grande\",\"Ariana Grande\",\"\",\"\",\"\",\"\",\"\",\"\",\"\",\"\",\"\",\"\",\"\",\"\",\"\",\"\",\"\",\"\",\"\",\"\",\"\",\"\",\"\",\"\"],\"values\":[1.0,0.95,0.95,0.97,0.98,0.97,0.93,0.94,0.95,0.97,0.95,0.95,0.96,0.94,0.96,0.95,0.97,0.97,0.96,0.94,0.93,0.97,0.99,0.99,0.95,0.96,2.94,0.97,0.95,0.93,0.94,0.96,0.98,0.97,0.96,0.94,0.95,0.97,0.93,0.95,0.95,0.95,0.95,0.97,1.96,0.97,0.94],\"type\":\"treemap\",\"root\":{\"color\":\"lightgrey\"},\"legendgrouptitle\":{\"text\":\"M\\u00fasicas mais populares\"}}],                        {\"template\":{\"data\":{\"bar\":[{\"error_x\":{\"color\":\"#2a3f5f\"},\"error_y\":{\"color\":\"#2a3f5f\"},\"marker\":{\"line\":{\"color\":\"#E5ECF6\",\"width\":0.5},\"pattern\":{\"fillmode\":\"overlay\",\"size\":10,\"solidity\":0.2}},\"type\":\"bar\"}],\"barpolar\":[{\"marker\":{\"line\":{\"color\":\"#E5ECF6\",\"width\":0.5},\"pattern\":{\"fillmode\":\"overlay\",\"size\":10,\"solidity\":0.2}},\"type\":\"barpolar\"}],\"carpet\":[{\"aaxis\":{\"endlinecolor\":\"#2a3f5f\",\"gridcolor\":\"white\",\"linecolor\":\"white\",\"minorgridcolor\":\"white\",\"startlinecolor\":\"#2a3f5f\"},\"baxis\":{\"endlinecolor\":\"#2a3f5f\",\"gridcolor\":\"white\",\"linecolor\":\"white\",\"minorgridcolor\":\"white\",\"startlinecolor\":\"#2a3f5f\"},\"type\":\"carpet\"}],\"choropleth\":[{\"colorbar\":{\"outlinewidth\":0,\"ticks\":\"\"},\"type\":\"choropleth\"}],\"contour\":[{\"colorbar\":{\"outlinewidth\":0,\"ticks\":\"\"},\"colorscale\":[[0.0,\"#0d0887\"],[0.1111111111111111,\"#46039f\"],[0.2222222222222222,\"#7201a8\"],[0.3333333333333333,\"#9c179e\"],[0.4444444444444444,\"#bd3786\"],[0.5555555555555556,\"#d8576b\"],[0.6666666666666666,\"#ed7953\"],[0.7777777777777778,\"#fb9f3a\"],[0.8888888888888888,\"#fdca26\"],[1.0,\"#f0f921\"]],\"type\":\"contour\"}],\"contourcarpet\":[{\"colorbar\":{\"outlinewidth\":0,\"ticks\":\"\"},\"type\":\"contourcarpet\"}],\"heatmap\":[{\"colorbar\":{\"outlinewidth\":0,\"ticks\":\"\"},\"colorscale\":[[0.0,\"#0d0887\"],[0.1111111111111111,\"#46039f\"],[0.2222222222222222,\"#7201a8\"],[0.3333333333333333,\"#9c179e\"],[0.4444444444444444,\"#bd3786\"],[0.5555555555555556,\"#d8576b\"],[0.6666666666666666,\"#ed7953\"],[0.7777777777777778,\"#fb9f3a\"],[0.8888888888888888,\"#fdca26\"],[1.0,\"#f0f921\"]],\"type\":\"heatmap\"}],\"heatmapgl\":[{\"colorbar\":{\"outlinewidth\":0,\"ticks\":\"\"},\"colorscale\":[[0.0,\"#0d0887\"],[0.1111111111111111,\"#46039f\"],[0.2222222222222222,\"#7201a8\"],[0.3333333333333333,\"#9c179e\"],[0.4444444444444444,\"#bd3786\"],[0.5555555555555556,\"#d8576b\"],[0.6666666666666666,\"#ed7953\"],[0.7777777777777778,\"#fb9f3a\"],[0.8888888888888888,\"#fdca26\"],[1.0,\"#f0f921\"]],\"type\":\"heatmapgl\"}],\"histogram\":[{\"marker\":{\"pattern\":{\"fillmode\":\"overlay\",\"size\":10,\"solidity\":0.2}},\"type\":\"histogram\"}],\"histogram2d\":[{\"colorbar\":{\"outlinewidth\":0,\"ticks\":\"\"},\"colorscale\":[[0.0,\"#0d0887\"],[0.1111111111111111,\"#46039f\"],[0.2222222222222222,\"#7201a8\"],[0.3333333333333333,\"#9c179e\"],[0.4444444444444444,\"#bd3786\"],[0.5555555555555556,\"#d8576b\"],[0.6666666666666666,\"#ed7953\"],[0.7777777777777778,\"#fb9f3a\"],[0.8888888888888888,\"#fdca26\"],[1.0,\"#f0f921\"]],\"type\":\"histogram2d\"}],\"histogram2dcontour\":[{\"colorbar\":{\"outlinewidth\":0,\"ticks\":\"\"},\"colorscale\":[[0.0,\"#0d0887\"],[0.1111111111111111,\"#46039f\"],[0.2222222222222222,\"#7201a8\"],[0.3333333333333333,\"#9c179e\"],[0.4444444444444444,\"#bd3786\"],[0.5555555555555556,\"#d8576b\"],[0.6666666666666666,\"#ed7953\"],[0.7777777777777778,\"#fb9f3a\"],[0.8888888888888888,\"#fdca26\"],[1.0,\"#f0f921\"]],\"type\":\"histogram2dcontour\"}],\"mesh3d\":[{\"colorbar\":{\"outlinewidth\":0,\"ticks\":\"\"},\"type\":\"mesh3d\"}],\"parcoords\":[{\"line\":{\"colorbar\":{\"outlinewidth\":0,\"ticks\":\"\"}},\"type\":\"parcoords\"}],\"pie\":[{\"automargin\":true,\"type\":\"pie\"}],\"scatter\":[{\"marker\":{\"colorbar\":{\"outlinewidth\":0,\"ticks\":\"\"}},\"type\":\"scatter\"}],\"scatter3d\":[{\"line\":{\"colorbar\":{\"outlinewidth\":0,\"ticks\":\"\"}},\"marker\":{\"colorbar\":{\"outlinewidth\":0,\"ticks\":\"\"}},\"type\":\"scatter3d\"}],\"scattercarpet\":[{\"marker\":{\"colorbar\":{\"outlinewidth\":0,\"ticks\":\"\"}},\"type\":\"scattercarpet\"}],\"scattergeo\":[{\"marker\":{\"colorbar\":{\"outlinewidth\":0,\"ticks\":\"\"}},\"type\":\"scattergeo\"}],\"scattergl\":[{\"marker\":{\"colorbar\":{\"outlinewidth\":0,\"ticks\":\"\"}},\"type\":\"scattergl\"}],\"scattermapbox\":[{\"marker\":{\"colorbar\":{\"outlinewidth\":0,\"ticks\":\"\"}},\"type\":\"scattermapbox\"}],\"scatterpolar\":[{\"marker\":{\"colorbar\":{\"outlinewidth\":0,\"ticks\":\"\"}},\"type\":\"scatterpolar\"}],\"scatterpolargl\":[{\"marker\":{\"colorbar\":{\"outlinewidth\":0,\"ticks\":\"\"}},\"type\":\"scatterpolargl\"}],\"scatterternary\":[{\"marker\":{\"colorbar\":{\"outlinewidth\":0,\"ticks\":\"\"}},\"type\":\"scatterternary\"}],\"surface\":[{\"colorbar\":{\"outlinewidth\":0,\"ticks\":\"\"},\"colorscale\":[[0.0,\"#0d0887\"],[0.1111111111111111,\"#46039f\"],[0.2222222222222222,\"#7201a8\"],[0.3333333333333333,\"#9c179e\"],[0.4444444444444444,\"#bd3786\"],[0.5555555555555556,\"#d8576b\"],[0.6666666666666666,\"#ed7953\"],[0.7777777777777778,\"#fb9f3a\"],[0.8888888888888888,\"#fdca26\"],[1.0,\"#f0f921\"]],\"type\":\"surface\"}],\"table\":[{\"cells\":{\"fill\":{\"color\":\"#EBF0F8\"},\"line\":{\"color\":\"white\"}},\"header\":{\"fill\":{\"color\":\"#C8D4E3\"},\"line\":{\"color\":\"white\"}},\"type\":\"table\"}]},\"layout\":{\"annotationdefaults\":{\"arrowcolor\":\"#2a3f5f\",\"arrowhead\":0,\"arrowwidth\":1},\"autotypenumbers\":\"strict\",\"coloraxis\":{\"colorbar\":{\"outlinewidth\":0,\"ticks\":\"\"}},\"colorscale\":{\"diverging\":[[0,\"#8e0152\"],[0.1,\"#c51b7d\"],[0.2,\"#de77ae\"],[0.3,\"#f1b6da\"],[0.4,\"#fde0ef\"],[0.5,\"#f7f7f7\"],[0.6,\"#e6f5d0\"],[0.7,\"#b8e186\"],[0.8,\"#7fbc41\"],[0.9,\"#4d9221\"],[1,\"#276419\"]],\"sequential\":[[0.0,\"#0d0887\"],[0.1111111111111111,\"#46039f\"],[0.2222222222222222,\"#7201a8\"],[0.3333333333333333,\"#9c179e\"],[0.4444444444444444,\"#bd3786\"],[0.5555555555555556,\"#d8576b\"],[0.6666666666666666,\"#ed7953\"],[0.7777777777777778,\"#fb9f3a\"],[0.8888888888888888,\"#fdca26\"],[1.0,\"#f0f921\"]],\"sequentialminus\":[[0.0,\"#0d0887\"],[0.1111111111111111,\"#46039f\"],[0.2222222222222222,\"#7201a8\"],[0.3333333333333333,\"#9c179e\"],[0.4444444444444444,\"#bd3786\"],[0.5555555555555556,\"#d8576b\"],[0.6666666666666666,\"#ed7953\"],[0.7777777777777778,\"#fb9f3a\"],[0.8888888888888888,\"#fdca26\"],[1.0,\"#f0f921\"]]},\"colorway\":[\"#636efa\",\"#EF553B\",\"#00cc96\",\"#ab63fa\",\"#FFA15A\",\"#19d3f3\",\"#FF6692\",\"#B6E880\",\"#FF97FF\",\"#FECB52\"],\"font\":{\"color\":\"#2a3f5f\"},\"geo\":{\"bgcolor\":\"white\",\"lakecolor\":\"white\",\"landcolor\":\"#E5ECF6\",\"showlakes\":true,\"showland\":true,\"subunitcolor\":\"white\"},\"hoverlabel\":{\"align\":\"left\"},\"hovermode\":\"closest\",\"mapbox\":{\"style\":\"light\"},\"paper_bgcolor\":\"white\",\"plot_bgcolor\":\"#E5ECF6\",\"polar\":{\"angularaxis\":{\"gridcolor\":\"white\",\"linecolor\":\"white\",\"ticks\":\"\"},\"bgcolor\":\"#E5ECF6\",\"radialaxis\":{\"gridcolor\":\"white\",\"linecolor\":\"white\",\"ticks\":\"\"}},\"scene\":{\"xaxis\":{\"backgroundcolor\":\"#E5ECF6\",\"gridcolor\":\"white\",\"gridwidth\":2,\"linecolor\":\"white\",\"showbackground\":true,\"ticks\":\"\",\"zerolinecolor\":\"white\"},\"yaxis\":{\"backgroundcolor\":\"#E5ECF6\",\"gridcolor\":\"white\",\"gridwidth\":2,\"linecolor\":\"white\",\"showbackground\":true,\"ticks\":\"\",\"zerolinecolor\":\"white\"},\"zaxis\":{\"backgroundcolor\":\"#E5ECF6\",\"gridcolor\":\"white\",\"gridwidth\":2,\"linecolor\":\"white\",\"showbackground\":true,\"ticks\":\"\",\"zerolinecolor\":\"white\"}},\"shapedefaults\":{\"line\":{\"color\":\"#2a3f5f\"}},\"ternary\":{\"aaxis\":{\"gridcolor\":\"white\",\"linecolor\":\"white\",\"ticks\":\"\"},\"baxis\":{\"gridcolor\":\"white\",\"linecolor\":\"white\",\"ticks\":\"\"},\"bgcolor\":\"#E5ECF6\",\"caxis\":{\"gridcolor\":\"white\",\"linecolor\":\"white\",\"ticks\":\"\"}},\"title\":{\"x\":0.05},\"xaxis\":{\"automargin\":true,\"gridcolor\":\"white\",\"linecolor\":\"white\",\"ticks\":\"\",\"title\":{\"standoff\":15},\"zerolinecolor\":\"white\",\"zerolinewidth\":2},\"yaxis\":{\"automargin\":true,\"gridcolor\":\"white\",\"linecolor\":\"white\",\"ticks\":\"\",\"title\":{\"standoff\":15},\"zerolinecolor\":\"white\",\"zerolinewidth\":2}}},\"coloraxis\":{\"colorbar\":{\"title\":{\"text\":\"popularity\"}},\"colorscale\":[[0.0,\"#0d0887\"],[0.1111111111111111,\"#46039f\"],[0.2222222222222222,\"#7201a8\"],[0.3333333333333333,\"#9c179e\"],[0.4444444444444444,\"#bd3786\"],[0.5555555555555556,\"#d8576b\"],[0.6666666666666666,\"#ed7953\"],[0.7777777777777778,\"#fb9f3a\"],[0.8888888888888888,\"#fdca26\"],[1.0,\"#f0f921\"]]},\"legend\":{\"tracegroupgap\":0},\"title\":{\"text\":\"Hierarquia das popularidades entre artistas\"},\"height\":700,\"width\":900,\"margin\":{\"t\":50,\"l\":25,\"r\":25,\"b\":25},\"font\":{\"family\":\"Helvetica\",\"color\":\"black\"},\"xaxis\":{\"title\":{\"font\":{\"family\":\"Helvetica\"}}}},                        {\"responsive\": true}                    ).then(function(){\n                            \nvar gd = document.getElementById('0ef240e5-b608-4bb0-8eb1-dce8a9a71e34');\nvar x = new MutationObserver(function (mutations, observer) {{\n        var display = window.getComputedStyle(gd).display;\n        if (!display || display === 'none') {{\n            console.log([gd, 'removed!']);\n            Plotly.purge(gd);\n            observer.disconnect();\n        }}\n}});\n\n// Listen for the removal of the full notebook cells\nvar notebookContainer = gd.closest('#notebook-container');\nif (notebookContainer) {{\n    x.observe(notebookContainer, {childList: true});\n}}\n\n// Listen for the clearing of the current output cell\nvar outputEl = gd.closest('.output');\nif (outputEl) {{\n    x.observe(outputEl, {childList: true});\n}}\n\n                        })                };                            </script>        </div>\n</body>\n</html>"
                },
                "metadata": {}
              }
            ]
          }
        },
        "c69f8e4f3a9b43479133aacf93e8c3c4": {
          "model_module": "@jupyter-widgets/base",
          "model_name": "LayoutModel",
          "model_module_version": "1.2.0",
          "state": {
            "_model_module": "@jupyter-widgets/base",
            "_model_module_version": "1.2.0",
            "_model_name": "LayoutModel",
            "_view_count": null,
            "_view_module": "@jupyter-widgets/base",
            "_view_module_version": "1.2.0",
            "_view_name": "LayoutView",
            "align_content": null,
            "align_items": null,
            "align_self": null,
            "border": null,
            "bottom": null,
            "display": null,
            "flex": null,
            "flex_flow": null,
            "grid_area": null,
            "grid_auto_columns": null,
            "grid_auto_flow": null,
            "grid_auto_rows": null,
            "grid_column": null,
            "grid_gap": null,
            "grid_row": null,
            "grid_template_areas": null,
            "grid_template_columns": null,
            "grid_template_rows": null,
            "height": null,
            "justify_content": null,
            "justify_items": null,
            "left": null,
            "margin": null,
            "max_height": null,
            "max_width": null,
            "min_height": null,
            "min_width": null,
            "object_fit": null,
            "object_position": null,
            "order": null,
            "overflow": null,
            "overflow_x": null,
            "overflow_y": null,
            "padding": null,
            "right": null,
            "top": null,
            "visibility": null,
            "width": null
          }
        },
        "c71f1c63e6be449e8e9d035fc826f06e": {
          "model_module": "@jupyter-widgets/base",
          "model_name": "LayoutModel",
          "model_module_version": "1.2.0",
          "state": {
            "_model_module": "@jupyter-widgets/base",
            "_model_module_version": "1.2.0",
            "_model_name": "LayoutModel",
            "_view_count": null,
            "_view_module": "@jupyter-widgets/base",
            "_view_module_version": "1.2.0",
            "_view_name": "LayoutView",
            "align_content": null,
            "align_items": null,
            "align_self": null,
            "border": null,
            "bottom": null,
            "display": null,
            "flex": null,
            "flex_flow": null,
            "grid_area": null,
            "grid_auto_columns": null,
            "grid_auto_flow": null,
            "grid_auto_rows": null,
            "grid_column": null,
            "grid_gap": null,
            "grid_row": null,
            "grid_template_areas": null,
            "grid_template_columns": null,
            "grid_template_rows": null,
            "height": null,
            "justify_content": null,
            "justify_items": null,
            "left": null,
            "margin": null,
            "max_height": null,
            "max_width": null,
            "min_height": null,
            "min_width": null,
            "object_fit": null,
            "object_position": null,
            "order": null,
            "overflow": null,
            "overflow_x": null,
            "overflow_y": null,
            "padding": null,
            "right": null,
            "top": null,
            "visibility": null,
            "width": null
          }
        },
        "efa596ea0807456584208b28b75a40ba": {
          "model_module": "@jupyter-widgets/controls",
          "model_name": "DescriptionStyleModel",
          "model_module_version": "1.5.0",
          "state": {
            "_model_module": "@jupyter-widgets/controls",
            "_model_module_version": "1.5.0",
            "_model_name": "DescriptionStyleModel",
            "_view_count": null,
            "_view_module": "@jupyter-widgets/base",
            "_view_module_version": "1.2.0",
            "_view_name": "StyleView",
            "description_width": ""
          }
        },
        "52dcf3abf9ee4bda8309d3fc3762da1d": {
          "model_module": "@jupyter-widgets/base",
          "model_name": "LayoutModel",
          "model_module_version": "1.2.0",
          "state": {
            "_model_module": "@jupyter-widgets/base",
            "_model_module_version": "1.2.0",
            "_model_name": "LayoutModel",
            "_view_count": null,
            "_view_module": "@jupyter-widgets/base",
            "_view_module_version": "1.2.0",
            "_view_name": "LayoutView",
            "align_content": null,
            "align_items": null,
            "align_self": null,
            "border": null,
            "bottom": null,
            "display": null,
            "flex": null,
            "flex_flow": null,
            "grid_area": null,
            "grid_auto_columns": null,
            "grid_auto_flow": null,
            "grid_auto_rows": null,
            "grid_column": null,
            "grid_gap": null,
            "grid_row": null,
            "grid_template_areas": null,
            "grid_template_columns": null,
            "grid_template_rows": null,
            "height": null,
            "justify_content": null,
            "justify_items": null,
            "left": null,
            "margin": null,
            "max_height": null,
            "max_width": null,
            "min_height": null,
            "min_width": null,
            "object_fit": null,
            "object_position": null,
            "order": null,
            "overflow": null,
            "overflow_x": null,
            "overflow_y": null,
            "padding": null,
            "right": null,
            "top": null,
            "visibility": null,
            "width": null
          }
        },
        "4b94322e706b4775983e7b0e1d06874a": {
          "model_module": "@jupyter-widgets/controls",
          "model_name": "SliderStyleModel",
          "model_module_version": "1.5.0",
          "state": {
            "_model_module": "@jupyter-widgets/controls",
            "_model_module_version": "1.5.0",
            "_model_name": "SliderStyleModel",
            "_view_count": null,
            "_view_module": "@jupyter-widgets/base",
            "_view_module_version": "1.2.0",
            "_view_name": "StyleView",
            "description_width": "",
            "handle_color": null
          }
        },
        "8daca830767e41bbb6e1e2b98522ed05": {
          "model_module": "@jupyter-widgets/base",
          "model_name": "LayoutModel",
          "model_module_version": "1.2.0",
          "state": {
            "_model_module": "@jupyter-widgets/base",
            "_model_module_version": "1.2.0",
            "_model_name": "LayoutModel",
            "_view_count": null,
            "_view_module": "@jupyter-widgets/base",
            "_view_module_version": "1.2.0",
            "_view_name": "LayoutView",
            "align_content": null,
            "align_items": null,
            "align_self": null,
            "border": null,
            "bottom": null,
            "display": null,
            "flex": null,
            "flex_flow": null,
            "grid_area": null,
            "grid_auto_columns": null,
            "grid_auto_flow": null,
            "grid_auto_rows": null,
            "grid_column": null,
            "grid_gap": null,
            "grid_row": null,
            "grid_template_areas": null,
            "grid_template_columns": null,
            "grid_template_rows": null,
            "height": null,
            "justify_content": null,
            "justify_items": null,
            "left": null,
            "margin": null,
            "max_height": null,
            "max_width": null,
            "min_height": null,
            "min_width": null,
            "object_fit": null,
            "object_position": null,
            "order": null,
            "overflow": null,
            "overflow_x": null,
            "overflow_y": null,
            "padding": null,
            "right": null,
            "top": null,
            "visibility": null,
            "width": null
          }
        }
      }
    }
  },
  "cells": [
    {
      "cell_type": "markdown",
      "source": [
        "\n",
        "# Projeto 2 - SCC0252 (Visualização Computacional)\n",
        "\n",
        "\n",
        "*   Otávio Ferracioli Coletti - 11767796\n",
        "*   Fernando César Lopes Barbosa Filho - 10260559\n",
        "\n",
        "\\\\\n",
        "\n",
        "---"
      ],
      "metadata": {
        "id": "HMw6rO2PdUp9"
      }
    },
    {
      "cell_type": "code",
      "source": [
        "# Bibliotecas importadas\n",
        "import numpy as np\n",
        "import pandas as pd\n",
        "import seaborn as sns\n",
        "import plotly.express as px\n",
        "import ipywidgets as widgets\n",
        "from ipywidgets import Button, Layout\n",
        "from matplotlib.spines import rcParams\n",
        "import plotly.graph_objects as go\n",
        "import matplotlib.pyplot as plt\n",
        "from matplotlib import legend\n",
        "from pandas import Series\n",
        "import ipywidgets\n",
        "import random\n",
        "import plotly\n",
        "import io"
      ],
      "metadata": {
        "id": "fjz4DBFG-Zwa"
      },
      "execution_count": 116,
      "outputs": []
    },
    {
      "cell_type": "code",
      "source": [
        "# Conjunto de dados do Spotify\n",
        "url = 'https://raw.githubusercontent.com/otaviofcoletti/VIZCOMP/main/SpotifyFeatures(1).csv'\n",
        "df = pd.read_csv(url)"
      ],
      "metadata": {
        "id": "LzrmJrCo-tYO"
      },
      "execution_count": 117,
      "outputs": []
    },
    {
      "cell_type": "markdown",
      "source": [
        "## Heatmap\n",
        "\n",
        "Geramos um *heatmap* que exibe os valores de correlação entre os atributos de todas as músicas do Spotify.\n"
      ],
      "metadata": {
        "id": "T-EZV92Jrr85"
      }
    },
    {
      "cell_type": "code",
      "source": [
        "popular_music_rank = df.sort_values('popularity', ascending=False) "
      ],
      "metadata": {
        "id": "0T9xDSopHM0X"
      },
      "execution_count": 118,
      "outputs": []
    },
    {
      "cell_type": "code",
      "source": [
        "def heatmap_interactive(**ch_list):\n",
        "\n",
        "  categories = ['valence','acousticness','danceability','energy','liveness','speechiness','instrumentalness','loudness']\n",
        "  features = []\n",
        "\n",
        "  for i in categories:\n",
        "    if ch_list[i]:\n",
        "      features.append(i)\n",
        "\n",
        "  selection = df[features]\n",
        "  plt.figure(figsize=(15,10))\n",
        "  sns.heatmap(selection.corr(),annot=True,cmap=\"coolwarm\")\n",
        "  plt.title('Heatmap of Correlations')\n",
        "  plt.show()"
      ],
      "metadata": {
        "id": "jnrQzz9mwmWF"
      },
      "execution_count": 119,
      "outputs": []
    },
    {
      "cell_type": "code",
      "source": [
        "cb_list = {description: widgets.Checkbox(\n",
        "    value=random.choice([True, False]),\n",
        "    description=description,\n",
        "    disabled=False,\n",
        "    indent=False\n",
        ") for description in ['valence','acousticness','danceability','energy','liveness','speechiness','instrumentalness','loudness']}"
      ],
      "metadata": {
        "id": "RtwKObzERjcF"
      },
      "execution_count": 120,
      "outputs": []
    },
    {
      "cell_type": "markdown",
      "source": [
        "Selecione nos **checkboxes** as *features* nas quais se deseja comparar a correlação no **heatmap**:"
      ],
      "metadata": {
        "id": "6fbRk3q3NU2h"
      }
    },
    {
      "cell_type": "code",
      "source": [
        "widgets.interactive(heatmap_interactive, **cb_list)"
      ],
      "metadata": {
        "id": "bo_eBQEAROoH",
        "colab": {
          "base_uri": "https://localhost:8080/",
          "height": 863,
          "referenced_widgets": [
            "e6251d238f8643169cdb1c480b3e2917",
            "41f132848ee94c7ca3f48ae5de73cb84",
            "cf6c083ad2b04716b6260e722e9c1ee3",
            "84a59d917d2445688dd2fdf8b8f6e875",
            "af7801fd9d8f4c129c116541655ea800",
            "83cf8f54d4da47cab3f45d403020eb91",
            "398ab32a7b1e440096a3881ca03668a4",
            "e4368f46be3e4c0b89e694fae1eafa37",
            "6ab9ce10ef974a0ba5676d409b78219f",
            "22d569ca310c4443ade11b2b275236c1",
            "1a8efb8616dd45c584245b5944ae61ef",
            "147b9da5ccf44d06863e0ffa7cf59d4f",
            "392677018a2742258c2f144c2252cd69",
            "b2dc59d7f21f490ba99a3c9ff0e43c4c",
            "622104298f6341f48fc3993e2f170eca",
            "aa17e4ad259044698757dd76ff5457e8",
            "1efc48dd36f141f785c2691fa818813a",
            "e6bd5da3318d432f8b047f895228dc2f",
            "2cd60c5cbcdd4f848401174a5912c8ee",
            "abb23efaad8e4a6fa5e068dc9c5e6cbc",
            "c7d491caed074bc4b9a61650c3f90deb",
            "801d08305e2444aeaf502353bd618984",
            "e67b694a87ff41758e73ba2bba02fe25",
            "b3559f6dfe3f4a6ab9aeb15421358933",
            "bc65d4ec44a04b41bd186f24725c9586",
            "6589962599464740ab5d660fe20a46fe",
            "ccfa3e0168164c349d64ae69d7797dac",
            "4a5d44aa8d7644b687c93265eea94c5a"
          ]
        },
        "outputId": "6a8a1b0d-5b39-426c-cf13-1f633d4f1d12"
      },
      "execution_count": 121,
      "outputs": [
        {
          "output_type": "display_data",
          "data": {
            "text/plain": [
              "interactive(children=(Checkbox(value=False, description='valence', indent=False), Checkbox(value=True, descrip…"
            ],
            "application/vnd.jupyter.widget-view+json": {
              "version_major": 2,
              "version_minor": 0,
              "model_id": "e6251d238f8643169cdb1c480b3e2917"
            }
          },
          "metadata": {}
        }
      ]
    },
    {
      "cell_type": "markdown",
      "source": [
        "## Gráfico de Radar\n",
        "\n",
        "Nesse tipo de visualização o usuário poderá selecionar quantas músicas se deseja analisar entre as mais populares, quais as *features* a serem os eixos e a respectiva ordem entre elas."
      ],
      "metadata": {
        "id": "45xcyBRsQSHc"
      }
    },
    {
      "cell_type": "code",
      "source": [
        "cinza = \"#808080\"\n",
        "transparente = \"rgba(0,0,0,0)\"\n",
        "\n",
        "def radar_chart_2(number_of_music=1,**dd_list):\n",
        "\n",
        "  top5 = popular_music_rank[:number_of_music]\n",
        "\n",
        "  lista_features = ['Feature 1','Feature 2','Feature 3','Feature 4','Feature 5','Feature 6','Feature 7','Feature 8']\n",
        "  categories = ['valence','acousticness','danceability','energy','liveness','speechiness','instrumentalness','loudness']\n",
        "  top5 = top5[['valence','acousticness','danceability','energy','liveness','speechiness','instrumentalness','loudness','track_name','artist_name']]\n",
        "  fig = go.Figure()\n",
        "  features = []\n",
        "\n",
        "  for i in lista_features:\n",
        "\n",
        "    if dd_list[i] != \"Nenhum\":\n",
        "      features.append(dd_list[i])\n",
        "  \n",
        "\n",
        "  for i in range(0,number_of_music):\n",
        "\n",
        "    fig.add_trace(go.Scatterpolar(\n",
        "          r=list(top5.iloc[i]),\n",
        "          theta=features,\n",
        "          fill='toself',\n",
        "          name= top5.iloc[i]['track_name'],\n",
        "          legendgrouptitle_text=\"Músicas mais populares\"\n",
        "    ))\n",
        "\n",
        "\n",
        "  fig.update_layout(\n",
        "        font_color=cinza,\n",
        "        font_size=15,\n",
        "        autosize=True,\n",
        "        height=400,\n",
        "        margin=dict(l=40, r=40, t=25, b=25),\n",
        "        paper_bgcolor=transparente,\n",
        "        polar=dict(\n",
        "            bgcolor=transparente,\n",
        "            radialaxis=dict(\n",
        "                range=[0, 1],\n",
        "                linecolor=cinza,\n",
        "                gridcolor=cinza,\n",
        "                tickcolor=cinza,\n",
        "            ),\n",
        "            angularaxis=dict(\n",
        "                rotation=120,\n",
        "                direction=\"clockwise\",\n",
        "                linecolor=cinza,\n",
        "                tickcolor=cinza,\n",
        "                gridcolor=cinza,\n",
        "            ),\n",
        "        ),\n",
        "    )\n",
        "  \n",
        "  fig.show()"
      ],
      "metadata": {
        "id": "jHMqtHmhdg5P"
      },
      "execution_count": 122,
      "outputs": []
    },
    {
      "cell_type": "code",
      "source": [
        "lista_features = ['Feature 1','Feature 2','Feature 3','Feature 4','Feature 5','Feature 6','Feature 7','Feature 8']"
      ],
      "metadata": {
        "id": "6rRjSMJ65t_V"
      },
      "execution_count": 123,
      "outputs": []
    },
    {
      "cell_type": "code",
      "source": [
        "charac=['valence','acousticness','danceability','energy','liveness','speechiness','instrumentalness','loudness','Nenhum']"
      ],
      "metadata": {
        "id": "jrHx61jO5t_X"
      },
      "execution_count": 124,
      "outputs": []
    },
    {
      "cell_type": "code",
      "source": [
        "index_list = [0,1,2,3,4,5,6,7,8]\n",
        "random.seed(117)\n",
        "\n",
        "dd_radar = {descri: widgets.Dropdown(\n",
        "    options=charac,\n",
        "    value=charac[index],\n",
        "    description=descri,\n",
        "    disabled=False,\n",
        ") for index,descri in zip(index_list,lista_features) }"
      ],
      "metadata": {
        "id": "XqHEtSqY5t_a"
      },
      "execution_count": 125,
      "outputs": []
    },
    {
      "cell_type": "markdown",
      "source": [
        "Através do gráfico de radar interativo podemos escolher quais as *features* musicais de interesse na análise, bem como escolher quantas e quais músicas comparar clicando na legenda associada. O usuário poderá escolher até 8 features, mas recomendamos entre 5 e 6 para facilitar a visualização."
      ],
      "metadata": {
        "id": "LQN4hs5bzaBh"
      }
    },
    {
      "cell_type": "code",
      "source": [
        "ipywidgets.interactive(radar_chart_2, number_of_music=ipywidgets.IntSlider(min=1,max=15,step=1,value=5),**dd_radar)"
      ],
      "metadata": {
        "id": "bmeCxLOT6sP2",
        "colab": {
          "base_uri": "https://localhost:8080/",
          "height": 705,
          "referenced_widgets": [
            "3471fb25904f4b5faaf44699d3df1b82",
            "78c799d1253f431382353d9957a80a75",
            "7a63f6be408542db84fe4cb6db7c4dac",
            "04ea34a7aacd464fab3f7c6ef20eedc7",
            "98740fba5cb34f729a356cd1d516ceb1",
            "e1f22e7632044d12859117536e372f91",
            "6d0d73f0eda74cae9e655ea40fc67c88",
            "764404928f174ce0a460f9f61543f840",
            "8688cf953d1c4db9a73723583fb4b1cd",
            "df89caa056de421881b85ac8313752b9",
            "bf83348382374fdcbaebe702215f24e7",
            "ca8944862d9e4c36ad34e055eb481cf4",
            "d6b27ac1cd844617aaa5c2cb4a75afb9",
            "06663c839e86490d8101925dc51e7fa3",
            "fa4361e240124761adc5808ca3745f89",
            "fb52af0c9b484a219abdc479244679d9",
            "744286ffd87548c2a35a6bd625aa6b15",
            "3b190b7c55124d708c94b164b37ad9f9",
            "2067a9edc91b4a84ba55f4257fb29261",
            "fe18427804e24673a9f0b22f33a5c16c",
            "4a64ddc15a7149f495716e31a164f930",
            "fda1549dd05047ad83af109cac86aabd",
            "dd197cdffca84d5599a41a211757866f",
            "eaeb92e078554ad2800ff3ef571ba393",
            "8609f0058d7c457980f687b398a18dd2",
            "d5fca2df57d743e89c9bcdbe5b07b1cf",
            "934ef05e3c2e46f591bd18daa7315dcf",
            "ea4c744766ee46cbbc0881b4341e705f",
            "dd2d02dcb68644169ced2b399afb0480",
            "ae2ff65c47724e7d9a8f5c911640ac5f",
            "91e02fe0eb3a4b9985035f2505937261"
          ]
        },
        "outputId": "a964a9cf-44b1-4c2e-ed6d-ec0c73cb4698"
      },
      "execution_count": 126,
      "outputs": [
        {
          "output_type": "display_data",
          "data": {
            "text/plain": [
              "interactive(children=(IntSlider(value=5, description='number_of_music', max=15, min=1), Dropdown(description='…"
            ],
            "application/vnd.jupyter.widget-view+json": {
              "version_major": 2,
              "version_minor": 0,
              "model_id": "3471fb25904f4b5faaf44699d3df1b82"
            }
          },
          "metadata": {}
        }
      ]
    },
    {
      "cell_type": "markdown",
      "source": [
        "Podemos ver que, das músicas mais populares, todas possuem um *loudness* alto e uma *danceability* significativamente alta também. Notamos que, por exemplo, a acústica dessas músicas dificilmente ultrapassa 5. \\\\\n",
        "\n",
        "Portanto, para ter sucesso é preciso fazer barulho, fazer o pessoal dançar e usar bastante da eletrônica na sua música! \\\\\n"
      ],
      "metadata": {
        "id": "jND_2nqCz24j"
      }
    },
    {
      "cell_type": "markdown",
      "source": [
        "## Treemap\n",
        "\n",
        "Esse recurso nos permite visualizar a hierarquia de popularidade entre as diferentes músicas e artistas."
      ],
      "metadata": {
        "id": "rbDGwyVM5ZiM"
      }
    },
    {
      "cell_type": "code",
      "source": [
        "def treemap_plot(artist_or_genre, size_selection=10):\n",
        "\n",
        "  if(artist_or_genre == 'Hierarquia por Artista'):\n",
        "    fig = px.treemap(popular_music_rank[0:size_selection], path=['artist_name','track_name'],color='popularity', values ='popularity',title=\"Hierarquia das popularidades entre artistas\",hover_name='artist_name',width=900, height=700)\n",
        "  else:\n",
        "    fig = px.treemap(popular_music_rank[0:size_selection], path=['genre', 'artist_name'], values ='popularity',title=\"Participação de cada artista na popularidade de cada gênero musical\",hover_name='track_name',width=900, height=700)\n",
        "    #fig = px.treemap(popular_music_rank[0:size_selection], path=['genre'], values ='popularity',title=\"Hierarquia das popularidades entre artistas\",hover_name='genre',width=900, height=700)\n",
        "\n",
        "  fig.update_traces(root_color=\"lightgrey\")\n",
        "  fig.update_traces(legendgrouptitle_text=\"Músicas mais populares\")\n",
        "  fig.update_layout(margin = dict(t=50, l=25, r=25, b=25))\n",
        "  fig.update_layout(\n",
        "    font_family=\"Helvetica\",\n",
        "    font_color=\"black\",\n",
        "  )\n",
        "  fig.update_xaxes(title_font_family=\"Helvetica\")\n",
        "  fig.show()"
      ],
      "metadata": {
        "id": "P-tSHJMKpDbc"
      },
      "execution_count": 127,
      "outputs": []
    },
    {
      "cell_type": "code",
      "source": [
        "ipywidgets.interact(treemap_plot, artist_or_genre=widgets.Dropdown(options=['Hierarquia por Artista','Hierarquia por Gênero Musical'],description='Selecione:'), size_selection=ipywidgets.IntSlider(min=5, max=100,step=5,value=25,description=\"N° músicas\"))"
      ],
      "metadata": {
        "id": "wINjAjgwW_tE",
        "colab": {
          "base_uri": "https://localhost:8080/",
          "height": 798,
          "referenced_widgets": [
            "5625c1432ccf44fabcba3758cdfb52fc",
            "636c1f77accb457d93ec6ff6d5a0f4f5",
            "55ac30a64886442285f34f4e5f501246",
            "4e5044627d1a4c7abf3f31486e0b9479",
            "c69f8e4f3a9b43479133aacf93e8c3c4",
            "c71f1c63e6be449e8e9d035fc826f06e",
            "efa596ea0807456584208b28b75a40ba",
            "52dcf3abf9ee4bda8309d3fc3762da1d",
            "4b94322e706b4775983e7b0e1d06874a",
            "8daca830767e41bbb6e1e2b98522ed05"
          ]
        },
        "outputId": "d3475db8-9927-49f3-a37f-5d5dbd56bfaa"
      },
      "execution_count": 128,
      "outputs": [
        {
          "output_type": "display_data",
          "data": {
            "text/plain": [
              "interactive(children=(Dropdown(description='Selecione:', options=('Hierarquia por Artista', 'Hierarquia por Gê…"
            ],
            "application/vnd.jupyter.widget-view+json": {
              "version_major": 2,
              "version_minor": 0,
              "model_id": "5625c1432ccf44fabcba3758cdfb52fc"
            }
          },
          "metadata": {}
        },
        {
          "output_type": "execute_result",
          "data": {
            "text/plain": [
              "<function __main__.treemap_plot(artist_or_genre, size_selection=10)>"
            ]
          },
          "metadata": {},
          "execution_count": 128
        }
      ]
    },
    {
      "cell_type": "markdown",
      "source": [
        "## Pré-processamento"
      ],
      "metadata": {
        "id": "C6yza2qpf9P3"
      }
    },
    {
      "cell_type": "markdown",
      "source": [
        "Para não selecionar artistas com apenas um single de sucesso (conhecidos como 'one hit'), trabalharemos com artistas que possuem 10 ou mais músicas populares para se ter como base artistas de sucesso mais consistentes."
      ],
      "metadata": {
        "id": "vBJvv64kFSV_"
      }
    },
    {
      "cell_type": "code",
      "source": [
        "vc = df['artist_name'].value_counts()  # contando quantas vezes cada artista aparece\n",
        "df = df[df['artist_name'].isin(vc.index[vc.gt(10)])]  # selecionando apenas aqueles que aparecem 10 vezes ou mais\n",
        "\n",
        "artist_count = df.groupby('artist_name')[['popularity']].count().sort_values(by='popularity', ascending=True)\n",
        "artist_sum = df.groupby('artist_name')[['popularity']].sum().sort_values(by='popularity', ascending=True)\n",
        "\n",
        "artist_rank = artist_sum.popularity / artist_count.popularity\n",
        "artist_rank = artist_rank.sort_values(ascending=False)\n",
        "artist_rank = pd.DataFrame(artist_rank).reset_index()\n",
        "\n",
        "print(artist_rank[:50])"
      ],
      "metadata": {
        "id": "zLrs3iHTq-o0",
        "colab": {
          "base_uri": "https://localhost:8080/"
        },
        "outputId": "c83d2c49-4ab6-411b-d0c4-6aebe10c5ca5"
      },
      "execution_count": 129,
      "outputs": [
        {
          "output_type": "stream",
          "name": "stdout",
          "text": [
            "               artist_name  popularity\n",
            "0            Billie Eilish    0.805263\n",
            "1               Juice WRLD    0.751111\n",
            "2                   Khalid    0.750000\n",
            "3              Post Malone    0.747692\n",
            "4                   Offset    0.745000\n",
            "5                 Coldplay    0.737692\n",
            "6                  6ix9ine    0.729231\n",
            "7                Bad Bunny    0.728387\n",
            "8                 Lil Peep    0.725789\n",
            "9             Metro Boomin    0.725714\n",
            "10            XXXTENTACION    0.725192\n",
            "11              Ed Sheeran    0.721852\n",
            "12                    LANY    0.720000\n",
            "13        Hailee Steinfeld    0.719091\n",
            "14           Alec Benjamin    0.712308\n",
            "15           Ariana Grande    0.708219\n",
            "16                    Kygo    0.707778\n",
            "17            Travis Scott    0.700208\n",
            "18              Marshmello    0.696875\n",
            "19         Michael Jackson    0.695714\n",
            "20               21 Savage    0.691622\n",
            "21          Camila Cabello    0.688235\n",
            "22               Sam Smith    0.685882\n",
            "23           Manuel Turizo    0.684545\n",
            "24       Twenty One Pilots    0.681842\n",
            "25               Green Day    0.680000\n",
            "26                  Rels B    0.679091\n",
            "27                     BTS    0.678654\n",
            "28              Jonas Blue    0.674667\n",
            "29              Luis Fonsi    0.672632\n",
            "30       Chance the Rapper    0.671333\n",
            "31           Daniel Caesar    0.670667\n",
            "32                    Zedd    0.670000\n",
            "33            Trippie Redd    0.667805\n",
            "34            Shawn Mendes    0.667800\n",
            "35                 Cardi B    0.665769\n",
            "36                Lil Pump    0.664815\n",
            "37     My Chemical Romance    0.664118\n",
            "38                   Drake    0.660328\n",
            "39             Huncho Jack    0.660000\n",
            "40                Maroon 5    0.659565\n",
            "41                Ella Mai    0.657368\n",
            "42                   Quavo    0.655556\n",
            "43                Paramore    0.654615\n",
            "44            Zara Larsson    0.654444\n",
            "45                Dua Lipa    0.652273\n",
            "46                      NF    0.652222\n",
            "47  A Boogie Wit da Hoodie    0.651765\n",
            "48              Bruno Mars    0.651429\n",
            "49                    Lauv    0.650870\n"
          ]
        }
      ]
    },
    {
      "cell_type": "markdown",
      "source": [
        "Abaixo vamos selecionar apenas as músicas dos artistas acima e conhecer quais são suas características mais importantes."
      ],
      "metadata": {
        "id": "CQCivBqPQqRf"
      }
    },
    {
      "cell_type": "code",
      "source": [
        "top10_artistas = list(artist_rank['artist_name'][0:50])\n",
        "top10 = pd.DataFrame()\n",
        "\n",
        "for i in top10_artistas:\n",
        "  top10 = top10.append(df[df['artist_name'].str.match(i)],ignore_index=True)"
      ],
      "metadata": {
        "id": "r5pxDGz9vehE"
      },
      "execution_count": 130,
      "outputs": []
    },
    {
      "cell_type": "markdown",
      "source": [
        "As funções abaixo irão nos ajudar a plotar os gráficos que indicarão como são em média as músicas dos artistas mais populares do Spotify."
      ],
      "metadata": {
        "id": "GBoAAWCs4Jjt"
      }
    },
    {
      "cell_type": "code",
      "source": [
        "def artist_rank_calculator(feature : str):\n",
        "\n",
        "  artist_count = top10.groupby('artist_name')[[feature]].count().sort_values(by=feature, ascending=True)\n",
        "  artist_sum = top10.groupby('artist_name')[[feature]].sum().sort_values(by=feature, ascending=True)\n",
        "  artist_rank = artist_sum[feature] / artist_count[feature]\n",
        "  artist_rank = artist_rank.sort_values(ascending=False)\n",
        "  artist_rank = pd.DataFrame(artist_rank).reset_index()\n",
        "\n",
        "  return artist_rank"
      ],
      "metadata": {
        "id": "G0O9iMFb0qfn"
      },
      "execution_count": 131,
      "outputs": []
    },
    {
      "cell_type": "code",
      "source": [
        "def plot_artist_rank (number_of_artist=1,characterists='valence'):\n",
        "\n",
        "  ar = artist_rank_calculator(characterists)\n",
        "  feature = characterists\n",
        "  title = characterists\n",
        "  fig = px.bar(ar[0:number_of_artist].sort_values(by=feature, ascending=True), y=\"artist_name\", x=feature, color=feature, title=\"Artistas mais populares e seu \" + title + ' médio',orientation='h',width=900, height=700)\n",
        "  fig.update_layout(xaxis_range=[0,1])\n",
        "\n",
        "  fig.update_layout(\n",
        "      font_family=\"Helvetica\",\n",
        "      font_color=\"black\",\n",
        "      title_font_family=\"Helvetica\",\n",
        "      title_font_color=\"black\",\n",
        "      legend_title_font_color=\"black\"\n",
        "  )\n",
        "\n",
        "  fig.update_xaxes(title_font_family=\"Helvetica\")\n",
        "  fig.show()"
      ],
      "metadata": {
        "id": "SMx4eT9_1Ntj"
      },
      "execution_count": 132,
      "outputs": []
    },
    {
      "cell_type": "code",
      "source": [
        "lista_features = ['valence','acousticness','danceability','energy','liveness','speechiness','instrumentalness','loudness']"
      ],
      "metadata": {
        "id": "5Bfc7kGYjn_c"
      },
      "execution_count": 133,
      "outputs": []
    },
    {
      "cell_type": "code",
      "source": [
        "dd = widgets.Dropdown(\n",
        "    options=lista_features,\n",
        "    value='valence',\n",
        "    description='Atributo da Música',\n",
        "    disabled=False,\n",
        "    layout=Layout(width='30%', height='big')\n",
        ")"
      ],
      "metadata": {
        "id": "oCHRDzhAjIAh"
      },
      "execution_count": 134,
      "outputs": []
    },
    {
      "cell_type": "markdown",
      "source": [
        "## Gráfico de barras\n"
      ],
      "metadata": {
        "id": "dAMWtFPmO2mt"
      }
    },
    {
      "cell_type": "code",
      "source": [
        "#ipywidgets.interactive(plot_artist_rank, number_of_artist=ipywidgets.IntSlider(min=1,max=50,step=1,value=10,description='N° artistas'), characterists=dd)"
      ],
      "metadata": {
        "id": "mXXozFc2TxO9"
      },
      "execution_count": 135,
      "outputs": []
    },
    {
      "cell_type": "markdown",
      "source": [
        "## Radviz\n",
        "\n",
        "Temos aqui quatro eixos nos quais as músicas estarão dispostas para análise --- *energy, acousticness, danceability* e *popularity.*"
      ],
      "metadata": {
        "id": "osQLzhag5dFq"
      }
    },
    {
      "cell_type": "code",
      "source": [
        "def radviz_vs (genero_1 : str,genero_2 : str,genero_3 : str, number_of_music=150):\n",
        "  \n",
        "  fig = plt.figure( )\n",
        "  plt.figure(figsize=(15,10))\n",
        "  atributes = df[['acousticness','energy','danceability','popularity', 'genre']]\n",
        "  pd.plotting.radviz(atributes[atributes['genre'].isin([genero_1])][:number_of_music], 'genre',color=['blue'])\n",
        "  pd.plotting.radviz(atributes[atributes['genre'].isin([genero_2])][:number_of_music], 'genre',color=['red'])\n",
        "  pd.plotting.radviz(atributes[atributes['genre'].isin([genero_3])][:number_of_music], 'genre',color=['green'])\n",
        "  plt.title(\"Disposição das músicas dos gêneros \")\n",
        "  plt.legend( loc='upper right', fontsize='larger' )"
      ],
      "metadata": {
        "id": "wH2iKlz6XVF9"
      },
      "execution_count": 136,
      "outputs": []
    },
    {
      "cell_type": "code",
      "source": [
        "lista_generos = ['Genero 1','Genero 2','Genero 3']"
      ],
      "metadata": {
        "id": "bgFNI2M6ZFIz"
      },
      "execution_count": 137,
      "outputs": []
    },
    {
      "cell_type": "code",
      "source": [
        "genres=['Dance',\n",
        " 'Rap',\n",
        " 'Hip-Hop',\n",
        " 'Pop',\n",
        " 'Reggaeton',\n",
        " \"Children's Music\",\n",
        " 'Folk',\n",
        " 'Rock',\n",
        " 'Indie',\n",
        " 'Electronic',\n",
        " 'Alternative',\n",
        " 'Country',\n",
        " 'Soul',\n",
        " 'Blues',\n",
        " 'Jazz',\n",
        " 'Reggae',\n",
        " 'R&B',\n",
        " 'World',\n",
        " 'Soundtrack',\n",
        " 'Movie',\n",
        " 'Classical',\n",
        " 'Ska',\n",
        " 'Anime',\n",
        " 'Opera',\n",
        " 'Comedy',\n",
        " 'A Capella']"
      ],
      "metadata": {
        "id": "ARwcjOQtweYy"
      },
      "execution_count": 138,
      "outputs": []
    },
    {
      "cell_type": "code",
      "source": [
        "random.seed(10)\n",
        "dd = {description: widgets.Dropdown(\n",
        "    options=genres,\n",
        "    value=genres[random.randint(0,len(genres)-1)],\n",
        "    description=description,\n",
        "    disabled=False,\n",
        ") for description in lista_generos }"
      ],
      "metadata": {
        "id": "nBu5LYXIWdDa"
      },
      "execution_count": 139,
      "outputs": []
    },
    {
      "cell_type": "markdown",
      "source": [
        "Escolha o gênero musical e número de músicas a comparar:"
      ],
      "metadata": {
        "id": "isz_quQEEZhN"
      }
    },
    {
      "cell_type": "code",
      "source": [
        "#ipywidgets.interact(radviz_vs, genero_1=dd['Genero 1'] ,genero_2=dd['Genero 2'] ,genero_3=dd['Genero 3'],number_of_music=ipywidgets.IntSlider(min=0, max=1000,step=25,value=150,description=\"N° músicas\"))"
      ],
      "metadata": {
        "id": "lG37y815Wags"
      },
      "execution_count": 140,
      "outputs": []
    }
  ]
}
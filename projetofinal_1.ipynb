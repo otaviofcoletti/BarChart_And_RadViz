{
  "nbformat": 4,
  "nbformat_minor": 0,
  "metadata": {
    "colab": {
      "provenance": []
    },
    "kernelspec": {
      "name": "python3",
      "display_name": "Python 3"
    },
    "language_info": {
      "name": "python"
    },
    "widgets": {
      "application/vnd.jupyter.widget-state+json": {
        "e3e26d6b8e8c43198245fdfa88ee9f92": {
          "model_module": "@jupyter-widgets/controls",
          "model_name": "VBoxModel",
          "model_module_version": "1.5.0",
          "state": {
            "_dom_classes": [
              "widget-interact"
            ],
            "_model_module": "@jupyter-widgets/controls",
            "_model_module_version": "1.5.0",
            "_model_name": "VBoxModel",
            "_view_count": null,
            "_view_module": "@jupyter-widgets/controls",
            "_view_module_version": "1.5.0",
            "_view_name": "VBoxView",
            "box_style": "",
            "children": [
              "IPY_MODEL_f73ab5783b444172a1d063b41f3f8d6b",
              "IPY_MODEL_a518a4599df544e98117813524a85977",
              "IPY_MODEL_81d5e6c7c2544446a5b2b106723d64d5"
            ],
            "layout": "IPY_MODEL_b3332e1faf0146edb40b457ff1c7a3f4"
          }
        },
        "f73ab5783b444172a1d063b41f3f8d6b": {
          "model_module": "@jupyter-widgets/controls",
          "model_name": "IntSliderModel",
          "model_module_version": "1.5.0",
          "state": {
            "_dom_classes": [],
            "_model_module": "@jupyter-widgets/controls",
            "_model_module_version": "1.5.0",
            "_model_name": "IntSliderModel",
            "_view_count": null,
            "_view_module": "@jupyter-widgets/controls",
            "_view_module_version": "1.5.0",
            "_view_name": "IntSliderView",
            "continuous_update": true,
            "description": "N° artistas",
            "description_tooltip": null,
            "disabled": false,
            "layout": "IPY_MODEL_6f4fb23ac2894ebc87a67c6be1f9b45b",
            "max": 50,
            "min": 1,
            "orientation": "horizontal",
            "readout": true,
            "readout_format": "d",
            "step": 1,
            "style": "IPY_MODEL_f711117f1f784b52bcc4947aef2b5362",
            "value": 10
          }
        },
        "a518a4599df544e98117813524a85977": {
          "model_module": "@jupyter-widgets/controls",
          "model_name": "DropdownModel",
          "model_module_version": "1.5.0",
          "state": {
            "_dom_classes": [],
            "_model_module": "@jupyter-widgets/controls",
            "_model_module_version": "1.5.0",
            "_model_name": "DropdownModel",
            "_options_labels": [
              "valence",
              "acousticness",
              "danceability",
              "energy",
              "liveness",
              "speechiness",
              "instrumentalness",
              "loudness"
            ],
            "_view_count": null,
            "_view_module": "@jupyter-widgets/controls",
            "_view_module_version": "1.5.0",
            "_view_name": "DropdownView",
            "description": "Atributo da Música",
            "description_tooltip": null,
            "disabled": false,
            "index": 0,
            "layout": "IPY_MODEL_6c413b2cf294409db0d66245f9f74ebc",
            "style": "IPY_MODEL_bd63eb31db534cf8b81787cb7c87b67b"
          }
        },
        "81d5e6c7c2544446a5b2b106723d64d5": {
          "model_module": "@jupyter-widgets/output",
          "model_name": "OutputModel",
          "model_module_version": "1.0.0",
          "state": {
            "_dom_classes": [],
            "_model_module": "@jupyter-widgets/output",
            "_model_module_version": "1.0.0",
            "_model_name": "OutputModel",
            "_view_count": null,
            "_view_module": "@jupyter-widgets/output",
            "_view_module_version": "1.0.0",
            "_view_name": "OutputView",
            "layout": "IPY_MODEL_2f1f13038cc149199d7993135864f7b7",
            "msg_id": "",
            "outputs": [
              {
                "output_type": "display_data",
                "data": {
                  "text/html": "<html>\n<head><meta charset=\"utf-8\" /></head>\n<body>\n    <div>            <script src=\"https://cdnjs.cloudflare.com/ajax/libs/mathjax/2.7.5/MathJax.js?config=TeX-AMS-MML_SVG\"></script><script type=\"text/javascript\">if (window.MathJax) {MathJax.Hub.Config({SVG: {font: \"STIX-Web\"}});}</script>                <script type=\"text/javascript\">window.PlotlyConfig = {MathJaxConfig: 'local'};</script>\n        <script src=\"https://cdn.plot.ly/plotly-2.8.3.min.js\"></script>                <div id=\"07d28b63-719e-423d-b496-cc3160e78e08\" class=\"plotly-graph-div\" style=\"height:700px; width:900px;\"></div>            <script type=\"text/javascript\">                                    window.PLOTLYENV=window.PLOTLYENV || {};                                    if (document.getElementById(\"07d28b63-719e-423d-b496-cc3160e78e08\")) {                    Plotly.newPlot(                        \"07d28b63-719e-423d-b496-cc3160e78e08\",                        [{\"alignmentgroup\":\"True\",\"hovertemplate\":\"valence=%{marker.color}<br>artist_name=%{y}<extra></extra>\",\"legendgroup\":\"\",\"marker\":{\"color\":[0.5355703703703704,0.5412,0.542,0.5614615384615385,0.5921764705882353,0.5943076923076923,0.6243157894736843,0.6490952380952381,0.6619090909090909,0.6911904761904762],\"coloraxis\":\"coloraxis\",\"pattern\":{\"shape\":\"\"}},\"name\":\"\",\"offsetgroup\":\"\",\"orientation\":\"h\",\"showlegend\":false,\"textposition\":\"auto\",\"x\":[0.5355703703703704,0.5412,0.542,0.5614615384615385,0.5921764705882353,0.5943076923076923,0.6243157894736843,0.6490952380952381,0.6619090909090909,0.6911904761904762],\"xaxis\":\"x\",\"y\":[\"Lil Pump\",\"Jonas Blue\",\"Drake White\",\"Alec Benjamin\",\"Green Day\",\"Paramore\",\"Luis Fonsi\",\"Bruno Mars\",\"Manuel Turizo\",\"Michael Jackson\"],\"yaxis\":\"y\",\"type\":\"bar\"}],                        {\"template\":{\"data\":{\"bar\":[{\"error_x\":{\"color\":\"#2a3f5f\"},\"error_y\":{\"color\":\"#2a3f5f\"},\"marker\":{\"line\":{\"color\":\"#E5ECF6\",\"width\":0.5},\"pattern\":{\"fillmode\":\"overlay\",\"size\":10,\"solidity\":0.2}},\"type\":\"bar\"}],\"barpolar\":[{\"marker\":{\"line\":{\"color\":\"#E5ECF6\",\"width\":0.5},\"pattern\":{\"fillmode\":\"overlay\",\"size\":10,\"solidity\":0.2}},\"type\":\"barpolar\"}],\"carpet\":[{\"aaxis\":{\"endlinecolor\":\"#2a3f5f\",\"gridcolor\":\"white\",\"linecolor\":\"white\",\"minorgridcolor\":\"white\",\"startlinecolor\":\"#2a3f5f\"},\"baxis\":{\"endlinecolor\":\"#2a3f5f\",\"gridcolor\":\"white\",\"linecolor\":\"white\",\"minorgridcolor\":\"white\",\"startlinecolor\":\"#2a3f5f\"},\"type\":\"carpet\"}],\"choropleth\":[{\"colorbar\":{\"outlinewidth\":0,\"ticks\":\"\"},\"type\":\"choropleth\"}],\"contour\":[{\"colorbar\":{\"outlinewidth\":0,\"ticks\":\"\"},\"colorscale\":[[0.0,\"#0d0887\"],[0.1111111111111111,\"#46039f\"],[0.2222222222222222,\"#7201a8\"],[0.3333333333333333,\"#9c179e\"],[0.4444444444444444,\"#bd3786\"],[0.5555555555555556,\"#d8576b\"],[0.6666666666666666,\"#ed7953\"],[0.7777777777777778,\"#fb9f3a\"],[0.8888888888888888,\"#fdca26\"],[1.0,\"#f0f921\"]],\"type\":\"contour\"}],\"contourcarpet\":[{\"colorbar\":{\"outlinewidth\":0,\"ticks\":\"\"},\"type\":\"contourcarpet\"}],\"heatmap\":[{\"colorbar\":{\"outlinewidth\":0,\"ticks\":\"\"},\"colorscale\":[[0.0,\"#0d0887\"],[0.1111111111111111,\"#46039f\"],[0.2222222222222222,\"#7201a8\"],[0.3333333333333333,\"#9c179e\"],[0.4444444444444444,\"#bd3786\"],[0.5555555555555556,\"#d8576b\"],[0.6666666666666666,\"#ed7953\"],[0.7777777777777778,\"#fb9f3a\"],[0.8888888888888888,\"#fdca26\"],[1.0,\"#f0f921\"]],\"type\":\"heatmap\"}],\"heatmapgl\":[{\"colorbar\":{\"outlinewidth\":0,\"ticks\":\"\"},\"colorscale\":[[0.0,\"#0d0887\"],[0.1111111111111111,\"#46039f\"],[0.2222222222222222,\"#7201a8\"],[0.3333333333333333,\"#9c179e\"],[0.4444444444444444,\"#bd3786\"],[0.5555555555555556,\"#d8576b\"],[0.6666666666666666,\"#ed7953\"],[0.7777777777777778,\"#fb9f3a\"],[0.8888888888888888,\"#fdca26\"],[1.0,\"#f0f921\"]],\"type\":\"heatmapgl\"}],\"histogram\":[{\"marker\":{\"pattern\":{\"fillmode\":\"overlay\",\"size\":10,\"solidity\":0.2}},\"type\":\"histogram\"}],\"histogram2d\":[{\"colorbar\":{\"outlinewidth\":0,\"ticks\":\"\"},\"colorscale\":[[0.0,\"#0d0887\"],[0.1111111111111111,\"#46039f\"],[0.2222222222222222,\"#7201a8\"],[0.3333333333333333,\"#9c179e\"],[0.4444444444444444,\"#bd3786\"],[0.5555555555555556,\"#d8576b\"],[0.6666666666666666,\"#ed7953\"],[0.7777777777777778,\"#fb9f3a\"],[0.8888888888888888,\"#fdca26\"],[1.0,\"#f0f921\"]],\"type\":\"histogram2d\"}],\"histogram2dcontour\":[{\"colorbar\":{\"outlinewidth\":0,\"ticks\":\"\"},\"colorscale\":[[0.0,\"#0d0887\"],[0.1111111111111111,\"#46039f\"],[0.2222222222222222,\"#7201a8\"],[0.3333333333333333,\"#9c179e\"],[0.4444444444444444,\"#bd3786\"],[0.5555555555555556,\"#d8576b\"],[0.6666666666666666,\"#ed7953\"],[0.7777777777777778,\"#fb9f3a\"],[0.8888888888888888,\"#fdca26\"],[1.0,\"#f0f921\"]],\"type\":\"histogram2dcontour\"}],\"mesh3d\":[{\"colorbar\":{\"outlinewidth\":0,\"ticks\":\"\"},\"type\":\"mesh3d\"}],\"parcoords\":[{\"line\":{\"colorbar\":{\"outlinewidth\":0,\"ticks\":\"\"}},\"type\":\"parcoords\"}],\"pie\":[{\"automargin\":true,\"type\":\"pie\"}],\"scatter\":[{\"marker\":{\"colorbar\":{\"outlinewidth\":0,\"ticks\":\"\"}},\"type\":\"scatter\"}],\"scatter3d\":[{\"line\":{\"colorbar\":{\"outlinewidth\":0,\"ticks\":\"\"}},\"marker\":{\"colorbar\":{\"outlinewidth\":0,\"ticks\":\"\"}},\"type\":\"scatter3d\"}],\"scattercarpet\":[{\"marker\":{\"colorbar\":{\"outlinewidth\":0,\"ticks\":\"\"}},\"type\":\"scattercarpet\"}],\"scattergeo\":[{\"marker\":{\"colorbar\":{\"outlinewidth\":0,\"ticks\":\"\"}},\"type\":\"scattergeo\"}],\"scattergl\":[{\"marker\":{\"colorbar\":{\"outlinewidth\":0,\"ticks\":\"\"}},\"type\":\"scattergl\"}],\"scattermapbox\":[{\"marker\":{\"colorbar\":{\"outlinewidth\":0,\"ticks\":\"\"}},\"type\":\"scattermapbox\"}],\"scatterpolar\":[{\"marker\":{\"colorbar\":{\"outlinewidth\":0,\"ticks\":\"\"}},\"type\":\"scatterpolar\"}],\"scatterpolargl\":[{\"marker\":{\"colorbar\":{\"outlinewidth\":0,\"ticks\":\"\"}},\"type\":\"scatterpolargl\"}],\"scatterternary\":[{\"marker\":{\"colorbar\":{\"outlinewidth\":0,\"ticks\":\"\"}},\"type\":\"scatterternary\"}],\"surface\":[{\"colorbar\":{\"outlinewidth\":0,\"ticks\":\"\"},\"colorscale\":[[0.0,\"#0d0887\"],[0.1111111111111111,\"#46039f\"],[0.2222222222222222,\"#7201a8\"],[0.3333333333333333,\"#9c179e\"],[0.4444444444444444,\"#bd3786\"],[0.5555555555555556,\"#d8576b\"],[0.6666666666666666,\"#ed7953\"],[0.7777777777777778,\"#fb9f3a\"],[0.8888888888888888,\"#fdca26\"],[1.0,\"#f0f921\"]],\"type\":\"surface\"}],\"table\":[{\"cells\":{\"fill\":{\"color\":\"#EBF0F8\"},\"line\":{\"color\":\"white\"}},\"header\":{\"fill\":{\"color\":\"#C8D4E3\"},\"line\":{\"color\":\"white\"}},\"type\":\"table\"}]},\"layout\":{\"annotationdefaults\":{\"arrowcolor\":\"#2a3f5f\",\"arrowhead\":0,\"arrowwidth\":1},\"autotypenumbers\":\"strict\",\"coloraxis\":{\"colorbar\":{\"outlinewidth\":0,\"ticks\":\"\"}},\"colorscale\":{\"diverging\":[[0,\"#8e0152\"],[0.1,\"#c51b7d\"],[0.2,\"#de77ae\"],[0.3,\"#f1b6da\"],[0.4,\"#fde0ef\"],[0.5,\"#f7f7f7\"],[0.6,\"#e6f5d0\"],[0.7,\"#b8e186\"],[0.8,\"#7fbc41\"],[0.9,\"#4d9221\"],[1,\"#276419\"]],\"sequential\":[[0.0,\"#0d0887\"],[0.1111111111111111,\"#46039f\"],[0.2222222222222222,\"#7201a8\"],[0.3333333333333333,\"#9c179e\"],[0.4444444444444444,\"#bd3786\"],[0.5555555555555556,\"#d8576b\"],[0.6666666666666666,\"#ed7953\"],[0.7777777777777778,\"#fb9f3a\"],[0.8888888888888888,\"#fdca26\"],[1.0,\"#f0f921\"]],\"sequentialminus\":[[0.0,\"#0d0887\"],[0.1111111111111111,\"#46039f\"],[0.2222222222222222,\"#7201a8\"],[0.3333333333333333,\"#9c179e\"],[0.4444444444444444,\"#bd3786\"],[0.5555555555555556,\"#d8576b\"],[0.6666666666666666,\"#ed7953\"],[0.7777777777777778,\"#fb9f3a\"],[0.8888888888888888,\"#fdca26\"],[1.0,\"#f0f921\"]]},\"colorway\":[\"#636efa\",\"#EF553B\",\"#00cc96\",\"#ab63fa\",\"#FFA15A\",\"#19d3f3\",\"#FF6692\",\"#B6E880\",\"#FF97FF\",\"#FECB52\"],\"font\":{\"color\":\"#2a3f5f\"},\"geo\":{\"bgcolor\":\"white\",\"lakecolor\":\"white\",\"landcolor\":\"#E5ECF6\",\"showlakes\":true,\"showland\":true,\"subunitcolor\":\"white\"},\"hoverlabel\":{\"align\":\"left\"},\"hovermode\":\"closest\",\"mapbox\":{\"style\":\"light\"},\"paper_bgcolor\":\"white\",\"plot_bgcolor\":\"#E5ECF6\",\"polar\":{\"angularaxis\":{\"gridcolor\":\"white\",\"linecolor\":\"white\",\"ticks\":\"\"},\"bgcolor\":\"#E5ECF6\",\"radialaxis\":{\"gridcolor\":\"white\",\"linecolor\":\"white\",\"ticks\":\"\"}},\"scene\":{\"xaxis\":{\"backgroundcolor\":\"#E5ECF6\",\"gridcolor\":\"white\",\"gridwidth\":2,\"linecolor\":\"white\",\"showbackground\":true,\"ticks\":\"\",\"zerolinecolor\":\"white\"},\"yaxis\":{\"backgroundcolor\":\"#E5ECF6\",\"gridcolor\":\"white\",\"gridwidth\":2,\"linecolor\":\"white\",\"showbackground\":true,\"ticks\":\"\",\"zerolinecolor\":\"white\"},\"zaxis\":{\"backgroundcolor\":\"#E5ECF6\",\"gridcolor\":\"white\",\"gridwidth\":2,\"linecolor\":\"white\",\"showbackground\":true,\"ticks\":\"\",\"zerolinecolor\":\"white\"}},\"shapedefaults\":{\"line\":{\"color\":\"#2a3f5f\"}},\"ternary\":{\"aaxis\":{\"gridcolor\":\"white\",\"linecolor\":\"white\",\"ticks\":\"\"},\"baxis\":{\"gridcolor\":\"white\",\"linecolor\":\"white\",\"ticks\":\"\"},\"bgcolor\":\"#E5ECF6\",\"caxis\":{\"gridcolor\":\"white\",\"linecolor\":\"white\",\"ticks\":\"\"}},\"title\":{\"x\":0.05},\"xaxis\":{\"automargin\":true,\"gridcolor\":\"white\",\"linecolor\":\"white\",\"ticks\":\"\",\"title\":{\"standoff\":15},\"zerolinecolor\":\"white\",\"zerolinewidth\":2},\"yaxis\":{\"automargin\":true,\"gridcolor\":\"white\",\"linecolor\":\"white\",\"ticks\":\"\",\"title\":{\"standoff\":15},\"zerolinecolor\":\"white\",\"zerolinewidth\":2}}},\"xaxis\":{\"anchor\":\"y\",\"domain\":[0.0,1.0],\"title\":{\"text\":\"valence\",\"font\":{\"family\":\"Helvetica\"}},\"range\":[0,1]},\"yaxis\":{\"anchor\":\"x\",\"domain\":[0.0,1.0],\"title\":{\"text\":\"artist_name\"}},\"coloraxis\":{\"colorbar\":{\"title\":{\"text\":\"valence\"}},\"colorscale\":[[0.0,\"#0d0887\"],[0.1111111111111111,\"#46039f\"],[0.2222222222222222,\"#7201a8\"],[0.3333333333333333,\"#9c179e\"],[0.4444444444444444,\"#bd3786\"],[0.5555555555555556,\"#d8576b\"],[0.6666666666666666,\"#ed7953\"],[0.7777777777777778,\"#fb9f3a\"],[0.8888888888888888,\"#fdca26\"],[1.0,\"#f0f921\"]]},\"legend\":{\"tracegroupgap\":0,\"title\":{\"font\":{\"color\":\"black\"}}},\"title\":{\"text\":\"Artistas mais populares e seu valence m\\u00e9dio\",\"font\":{\"family\":\"Helvetica\",\"color\":\"black\"}},\"barmode\":\"relative\",\"height\":700,\"width\":900,\"font\":{\"family\":\"Helvetica\",\"color\":\"black\"}},                        {\"responsive\": true}                    ).then(function(){\n                            \nvar gd = document.getElementById('07d28b63-719e-423d-b496-cc3160e78e08');\nvar x = new MutationObserver(function (mutations, observer) {{\n        var display = window.getComputedStyle(gd).display;\n        if (!display || display === 'none') {{\n            console.log([gd, 'removed!']);\n            Plotly.purge(gd);\n            observer.disconnect();\n        }}\n}});\n\n// Listen for the removal of the full notebook cells\nvar notebookContainer = gd.closest('#notebook-container');\nif (notebookContainer) {{\n    x.observe(notebookContainer, {childList: true});\n}}\n\n// Listen for the clearing of the current output cell\nvar outputEl = gd.closest('.output');\nif (outputEl) {{\n    x.observe(outputEl, {childList: true});\n}}\n\n                        })                };                            </script>        </div>\n</body>\n</html>"
                },
                "metadata": {}
              }
            ]
          }
        },
        "b3332e1faf0146edb40b457ff1c7a3f4": {
          "model_module": "@jupyter-widgets/base",
          "model_name": "LayoutModel",
          "model_module_version": "1.2.0",
          "state": {
            "_model_module": "@jupyter-widgets/base",
            "_model_module_version": "1.2.0",
            "_model_name": "LayoutModel",
            "_view_count": null,
            "_view_module": "@jupyter-widgets/base",
            "_view_module_version": "1.2.0",
            "_view_name": "LayoutView",
            "align_content": null,
            "align_items": null,
            "align_self": null,
            "border": null,
            "bottom": null,
            "display": null,
            "flex": null,
            "flex_flow": null,
            "grid_area": null,
            "grid_auto_columns": null,
            "grid_auto_flow": null,
            "grid_auto_rows": null,
            "grid_column": null,
            "grid_gap": null,
            "grid_row": null,
            "grid_template_areas": null,
            "grid_template_columns": null,
            "grid_template_rows": null,
            "height": null,
            "justify_content": null,
            "justify_items": null,
            "left": null,
            "margin": null,
            "max_height": null,
            "max_width": null,
            "min_height": null,
            "min_width": null,
            "object_fit": null,
            "object_position": null,
            "order": null,
            "overflow": null,
            "overflow_x": null,
            "overflow_y": null,
            "padding": null,
            "right": null,
            "top": null,
            "visibility": null,
            "width": null
          }
        },
        "6f4fb23ac2894ebc87a67c6be1f9b45b": {
          "model_module": "@jupyter-widgets/base",
          "model_name": "LayoutModel",
          "model_module_version": "1.2.0",
          "state": {
            "_model_module": "@jupyter-widgets/base",
            "_model_module_version": "1.2.0",
            "_model_name": "LayoutModel",
            "_view_count": null,
            "_view_module": "@jupyter-widgets/base",
            "_view_module_version": "1.2.0",
            "_view_name": "LayoutView",
            "align_content": null,
            "align_items": null,
            "align_self": null,
            "border": null,
            "bottom": null,
            "display": null,
            "flex": null,
            "flex_flow": null,
            "grid_area": null,
            "grid_auto_columns": null,
            "grid_auto_flow": null,
            "grid_auto_rows": null,
            "grid_column": null,
            "grid_gap": null,
            "grid_row": null,
            "grid_template_areas": null,
            "grid_template_columns": null,
            "grid_template_rows": null,
            "height": null,
            "justify_content": null,
            "justify_items": null,
            "left": null,
            "margin": null,
            "max_height": null,
            "max_width": null,
            "min_height": null,
            "min_width": null,
            "object_fit": null,
            "object_position": null,
            "order": null,
            "overflow": null,
            "overflow_x": null,
            "overflow_y": null,
            "padding": null,
            "right": null,
            "top": null,
            "visibility": null,
            "width": null
          }
        },
        "f711117f1f784b52bcc4947aef2b5362": {
          "model_module": "@jupyter-widgets/controls",
          "model_name": "SliderStyleModel",
          "model_module_version": "1.5.0",
          "state": {
            "_model_module": "@jupyter-widgets/controls",
            "_model_module_version": "1.5.0",
            "_model_name": "SliderStyleModel",
            "_view_count": null,
            "_view_module": "@jupyter-widgets/base",
            "_view_module_version": "1.2.0",
            "_view_name": "StyleView",
            "description_width": "",
            "handle_color": null
          }
        },
        "6c413b2cf294409db0d66245f9f74ebc": {
          "model_module": "@jupyter-widgets/base",
          "model_name": "LayoutModel",
          "model_module_version": "1.2.0",
          "state": {
            "_model_module": "@jupyter-widgets/base",
            "_model_module_version": "1.2.0",
            "_model_name": "LayoutModel",
            "_view_count": null,
            "_view_module": "@jupyter-widgets/base",
            "_view_module_version": "1.2.0",
            "_view_name": "LayoutView",
            "align_content": null,
            "align_items": null,
            "align_self": null,
            "border": null,
            "bottom": null,
            "display": null,
            "flex": null,
            "flex_flow": null,
            "grid_area": null,
            "grid_auto_columns": null,
            "grid_auto_flow": null,
            "grid_auto_rows": null,
            "grid_column": null,
            "grid_gap": null,
            "grid_row": null,
            "grid_template_areas": null,
            "grid_template_columns": null,
            "grid_template_rows": null,
            "height": "big",
            "justify_content": null,
            "justify_items": null,
            "left": null,
            "margin": null,
            "max_height": null,
            "max_width": null,
            "min_height": null,
            "min_width": null,
            "object_fit": null,
            "object_position": null,
            "order": null,
            "overflow": null,
            "overflow_x": null,
            "overflow_y": null,
            "padding": null,
            "right": null,
            "top": null,
            "visibility": null,
            "width": "30%"
          }
        },
        "bd63eb31db534cf8b81787cb7c87b67b": {
          "model_module": "@jupyter-widgets/controls",
          "model_name": "DescriptionStyleModel",
          "model_module_version": "1.5.0",
          "state": {
            "_model_module": "@jupyter-widgets/controls",
            "_model_module_version": "1.5.0",
            "_model_name": "DescriptionStyleModel",
            "_view_count": null,
            "_view_module": "@jupyter-widgets/base",
            "_view_module_version": "1.2.0",
            "_view_name": "StyleView",
            "description_width": ""
          }
        },
        "2f1f13038cc149199d7993135864f7b7": {
          "model_module": "@jupyter-widgets/base",
          "model_name": "LayoutModel",
          "model_module_version": "1.2.0",
          "state": {
            "_model_module": "@jupyter-widgets/base",
            "_model_module_version": "1.2.0",
            "_model_name": "LayoutModel",
            "_view_count": null,
            "_view_module": "@jupyter-widgets/base",
            "_view_module_version": "1.2.0",
            "_view_name": "LayoutView",
            "align_content": null,
            "align_items": null,
            "align_self": null,
            "border": null,
            "bottom": null,
            "display": null,
            "flex": null,
            "flex_flow": null,
            "grid_area": null,
            "grid_auto_columns": null,
            "grid_auto_flow": null,
            "grid_auto_rows": null,
            "grid_column": null,
            "grid_gap": null,
            "grid_row": null,
            "grid_template_areas": null,
            "grid_template_columns": null,
            "grid_template_rows": null,
            "height": null,
            "justify_content": null,
            "justify_items": null,
            "left": null,
            "margin": null,
            "max_height": null,
            "max_width": null,
            "min_height": null,
            "min_width": null,
            "object_fit": null,
            "object_position": null,
            "order": null,
            "overflow": null,
            "overflow_x": null,
            "overflow_y": null,
            "padding": null,
            "right": null,
            "top": null,
            "visibility": null,
            "width": null
          }
        },
        "613ad44c639148db8dca6e7166035917": {
          "model_module": "@jupyter-widgets/controls",
          "model_name": "VBoxModel",
          "model_module_version": "1.5.0",
          "state": {
            "_dom_classes": [
              "widget-interact"
            ],
            "_model_module": "@jupyter-widgets/controls",
            "_model_module_version": "1.5.0",
            "_model_name": "VBoxModel",
            "_view_count": null,
            "_view_module": "@jupyter-widgets/controls",
            "_view_module_version": "1.5.0",
            "_view_name": "VBoxView",
            "box_style": "",
            "children": [
              "IPY_MODEL_9a760b9491804bb79bb6333749b4eeb1",
              "IPY_MODEL_36a0dbb430934983a7828d1c02390090",
              "IPY_MODEL_9acc6ee055d543bd96cdbb201bfdb78a",
              "IPY_MODEL_f82a3139028e46269cbdc445737d2e63",
              "IPY_MODEL_10566428eae9416299560de8ecc4afa0"
            ],
            "layout": "IPY_MODEL_4e2c409d87b2436fabc3f0521a767d3c"
          }
        },
        "9a760b9491804bb79bb6333749b4eeb1": {
          "model_module": "@jupyter-widgets/controls",
          "model_name": "DropdownModel",
          "model_module_version": "1.5.0",
          "state": {
            "_dom_classes": [],
            "_model_module": "@jupyter-widgets/controls",
            "_model_module_version": "1.5.0",
            "_model_name": "DropdownModel",
            "_options_labels": [
              "Dance",
              "Rap",
              "Hip-Hop",
              "Pop",
              "Reggaeton",
              "Children's Music",
              "Folk",
              "Rock",
              "Indie",
              "Electronic",
              "Alternative",
              "Country",
              "Soul",
              "Blues",
              "Jazz",
              "Reggae",
              "R&B",
              "World",
              "Soundtrack",
              "Movie",
              "Classical",
              "Ska",
              "Anime",
              "Opera",
              "Comedy",
              "A Capella"
            ],
            "_view_count": null,
            "_view_module": "@jupyter-widgets/controls",
            "_view_module_version": "1.5.0",
            "_view_name": "DropdownView",
            "description": "Genero 1",
            "description_tooltip": null,
            "disabled": false,
            "index": 18,
            "layout": "IPY_MODEL_4b6654c839a2434588f783a7aa49827c",
            "style": "IPY_MODEL_7f08c826cd594a038a1128b1b4e6117f"
          }
        },
        "36a0dbb430934983a7828d1c02390090": {
          "model_module": "@jupyter-widgets/controls",
          "model_name": "DropdownModel",
          "model_module_version": "1.5.0",
          "state": {
            "_dom_classes": [],
            "_model_module": "@jupyter-widgets/controls",
            "_model_module_version": "1.5.0",
            "_model_name": "DropdownModel",
            "_options_labels": [
              "Dance",
              "Rap",
              "Hip-Hop",
              "Pop",
              "Reggaeton",
              "Children's Music",
              "Folk",
              "Rock",
              "Indie",
              "Electronic",
              "Alternative",
              "Country",
              "Soul",
              "Blues",
              "Jazz",
              "Reggae",
              "R&B",
              "World",
              "Soundtrack",
              "Movie",
              "Classical",
              "Ska",
              "Anime",
              "Opera",
              "Comedy",
              "A Capella"
            ],
            "_view_count": null,
            "_view_module": "@jupyter-widgets/controls",
            "_view_module_version": "1.5.0",
            "_view_name": "DropdownView",
            "description": "Genero 2",
            "description_tooltip": null,
            "disabled": false,
            "index": 1,
            "layout": "IPY_MODEL_c4caac6100b244eebaa9b8c8f2b6f43a",
            "style": "IPY_MODEL_54390a8450e44ddb8296aa9564697da9"
          }
        },
        "9acc6ee055d543bd96cdbb201bfdb78a": {
          "model_module": "@jupyter-widgets/controls",
          "model_name": "DropdownModel",
          "model_module_version": "1.5.0",
          "state": {
            "_dom_classes": [],
            "_model_module": "@jupyter-widgets/controls",
            "_model_module_version": "1.5.0",
            "_model_name": "DropdownModel",
            "_options_labels": [
              "Dance",
              "Rap",
              "Hip-Hop",
              "Pop",
              "Reggaeton",
              "Children's Music",
              "Folk",
              "Rock",
              "Indie",
              "Electronic",
              "Alternative",
              "Country",
              "Soul",
              "Blues",
              "Jazz",
              "Reggae",
              "R&B",
              "World",
              "Soundtrack",
              "Movie",
              "Classical",
              "Ska",
              "Anime",
              "Opera",
              "Comedy",
              "A Capella"
            ],
            "_view_count": null,
            "_view_module": "@jupyter-widgets/controls",
            "_view_module_version": "1.5.0",
            "_view_name": "DropdownView",
            "description": "Genero 3",
            "description_tooltip": null,
            "disabled": false,
            "index": 13,
            "layout": "IPY_MODEL_433f1e1a7e6e42f4ad0983287c8bd353",
            "style": "IPY_MODEL_fdc508ea2bbd42ff81d16afdb3055ef7"
          }
        },
        "f82a3139028e46269cbdc445737d2e63": {
          "model_module": "@jupyter-widgets/controls",
          "model_name": "IntSliderModel",
          "model_module_version": "1.5.0",
          "state": {
            "_dom_classes": [],
            "_model_module": "@jupyter-widgets/controls",
            "_model_module_version": "1.5.0",
            "_model_name": "IntSliderModel",
            "_view_count": null,
            "_view_module": "@jupyter-widgets/controls",
            "_view_module_version": "1.5.0",
            "_view_name": "IntSliderView",
            "continuous_update": true,
            "description": "N° músicas",
            "description_tooltip": null,
            "disabled": false,
            "layout": "IPY_MODEL_b6f51d54da1548b59ddf7df629096025",
            "max": 1000,
            "min": 0,
            "orientation": "horizontal",
            "readout": true,
            "readout_format": "d",
            "step": 25,
            "style": "IPY_MODEL_2952e8b086cf43a1b0b4cda8e3ea8a56",
            "value": 150
          }
        },
        "10566428eae9416299560de8ecc4afa0": {
          "model_module": "@jupyter-widgets/output",
          "model_name": "OutputModel",
          "model_module_version": "1.0.0",
          "state": {
            "_dom_classes": [],
            "_model_module": "@jupyter-widgets/output",
            "_model_module_version": "1.0.0",
            "_model_name": "OutputModel",
            "_view_count": null,
            "_view_module": "@jupyter-widgets/output",
            "_view_module_version": "1.0.0",
            "_view_name": "OutputView",
            "layout": "IPY_MODEL_44d127316af844d69c0d2b1ebfcd39d2",
            "msg_id": "",
            "outputs": [
              {
                "output_type": "display_data",
                "data": {
                  "text/plain": "<Figure size 432x288 with 0 Axes>"
                },
                "metadata": {}
              },
              {
                "output_type": "display_data",
                "data": {
                  "text/plain": "<Figure size 1080x720 with 1 Axes>",
                  "image/png": "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\n"
                },
                "metadata": {
                  "needs_background": "light"
                }
              }
            ]
          }
        },
        "4e2c409d87b2436fabc3f0521a767d3c": {
          "model_module": "@jupyter-widgets/base",
          "model_name": "LayoutModel",
          "model_module_version": "1.2.0",
          "state": {
            "_model_module": "@jupyter-widgets/base",
            "_model_module_version": "1.2.0",
            "_model_name": "LayoutModel",
            "_view_count": null,
            "_view_module": "@jupyter-widgets/base",
            "_view_module_version": "1.2.0",
            "_view_name": "LayoutView",
            "align_content": null,
            "align_items": null,
            "align_self": null,
            "border": null,
            "bottom": null,
            "display": null,
            "flex": null,
            "flex_flow": null,
            "grid_area": null,
            "grid_auto_columns": null,
            "grid_auto_flow": null,
            "grid_auto_rows": null,
            "grid_column": null,
            "grid_gap": null,
            "grid_row": null,
            "grid_template_areas": null,
            "grid_template_columns": null,
            "grid_template_rows": null,
            "height": null,
            "justify_content": null,
            "justify_items": null,
            "left": null,
            "margin": null,
            "max_height": null,
            "max_width": null,
            "min_height": null,
            "min_width": null,
            "object_fit": null,
            "object_position": null,
            "order": null,
            "overflow": null,
            "overflow_x": null,
            "overflow_y": null,
            "padding": null,
            "right": null,
            "top": null,
            "visibility": null,
            "width": null
          }
        },
        "4b6654c839a2434588f783a7aa49827c": {
          "model_module": "@jupyter-widgets/base",
          "model_name": "LayoutModel",
          "model_module_version": "1.2.0",
          "state": {
            "_model_module": "@jupyter-widgets/base",
            "_model_module_version": "1.2.0",
            "_model_name": "LayoutModel",
            "_view_count": null,
            "_view_module": "@jupyter-widgets/base",
            "_view_module_version": "1.2.0",
            "_view_name": "LayoutView",
            "align_content": null,
            "align_items": null,
            "align_self": null,
            "border": null,
            "bottom": null,
            "display": null,
            "flex": null,
            "flex_flow": null,
            "grid_area": null,
            "grid_auto_columns": null,
            "grid_auto_flow": null,
            "grid_auto_rows": null,
            "grid_column": null,
            "grid_gap": null,
            "grid_row": null,
            "grid_template_areas": null,
            "grid_template_columns": null,
            "grid_template_rows": null,
            "height": null,
            "justify_content": null,
            "justify_items": null,
            "left": null,
            "margin": null,
            "max_height": null,
            "max_width": null,
            "min_height": null,
            "min_width": null,
            "object_fit": null,
            "object_position": null,
            "order": null,
            "overflow": null,
            "overflow_x": null,
            "overflow_y": null,
            "padding": null,
            "right": null,
            "top": null,
            "visibility": null,
            "width": null
          }
        },
        "7f08c826cd594a038a1128b1b4e6117f": {
          "model_module": "@jupyter-widgets/controls",
          "model_name": "DescriptionStyleModel",
          "model_module_version": "1.5.0",
          "state": {
            "_model_module": "@jupyter-widgets/controls",
            "_model_module_version": "1.5.0",
            "_model_name": "DescriptionStyleModel",
            "_view_count": null,
            "_view_module": "@jupyter-widgets/base",
            "_view_module_version": "1.2.0",
            "_view_name": "StyleView",
            "description_width": ""
          }
        },
        "c4caac6100b244eebaa9b8c8f2b6f43a": {
          "model_module": "@jupyter-widgets/base",
          "model_name": "LayoutModel",
          "model_module_version": "1.2.0",
          "state": {
            "_model_module": "@jupyter-widgets/base",
            "_model_module_version": "1.2.0",
            "_model_name": "LayoutModel",
            "_view_count": null,
            "_view_module": "@jupyter-widgets/base",
            "_view_module_version": "1.2.0",
            "_view_name": "LayoutView",
            "align_content": null,
            "align_items": null,
            "align_self": null,
            "border": null,
            "bottom": null,
            "display": null,
            "flex": null,
            "flex_flow": null,
            "grid_area": null,
            "grid_auto_columns": null,
            "grid_auto_flow": null,
            "grid_auto_rows": null,
            "grid_column": null,
            "grid_gap": null,
            "grid_row": null,
            "grid_template_areas": null,
            "grid_template_columns": null,
            "grid_template_rows": null,
            "height": null,
            "justify_content": null,
            "justify_items": null,
            "left": null,
            "margin": null,
            "max_height": null,
            "max_width": null,
            "min_height": null,
            "min_width": null,
            "object_fit": null,
            "object_position": null,
            "order": null,
            "overflow": null,
            "overflow_x": null,
            "overflow_y": null,
            "padding": null,
            "right": null,
            "top": null,
            "visibility": null,
            "width": null
          }
        },
        "54390a8450e44ddb8296aa9564697da9": {
          "model_module": "@jupyter-widgets/controls",
          "model_name": "DescriptionStyleModel",
          "model_module_version": "1.5.0",
          "state": {
            "_model_module": "@jupyter-widgets/controls",
            "_model_module_version": "1.5.0",
            "_model_name": "DescriptionStyleModel",
            "_view_count": null,
            "_view_module": "@jupyter-widgets/base",
            "_view_module_version": "1.2.0",
            "_view_name": "StyleView",
            "description_width": ""
          }
        },
        "433f1e1a7e6e42f4ad0983287c8bd353": {
          "model_module": "@jupyter-widgets/base",
          "model_name": "LayoutModel",
          "model_module_version": "1.2.0",
          "state": {
            "_model_module": "@jupyter-widgets/base",
            "_model_module_version": "1.2.0",
            "_model_name": "LayoutModel",
            "_view_count": null,
            "_view_module": "@jupyter-widgets/base",
            "_view_module_version": "1.2.0",
            "_view_name": "LayoutView",
            "align_content": null,
            "align_items": null,
            "align_self": null,
            "border": null,
            "bottom": null,
            "display": null,
            "flex": null,
            "flex_flow": null,
            "grid_area": null,
            "grid_auto_columns": null,
            "grid_auto_flow": null,
            "grid_auto_rows": null,
            "grid_column": null,
            "grid_gap": null,
            "grid_row": null,
            "grid_template_areas": null,
            "grid_template_columns": null,
            "grid_template_rows": null,
            "height": null,
            "justify_content": null,
            "justify_items": null,
            "left": null,
            "margin": null,
            "max_height": null,
            "max_width": null,
            "min_height": null,
            "min_width": null,
            "object_fit": null,
            "object_position": null,
            "order": null,
            "overflow": null,
            "overflow_x": null,
            "overflow_y": null,
            "padding": null,
            "right": null,
            "top": null,
            "visibility": null,
            "width": null
          }
        },
        "fdc508ea2bbd42ff81d16afdb3055ef7": {
          "model_module": "@jupyter-widgets/controls",
          "model_name": "DescriptionStyleModel",
          "model_module_version": "1.5.0",
          "state": {
            "_model_module": "@jupyter-widgets/controls",
            "_model_module_version": "1.5.0",
            "_model_name": "DescriptionStyleModel",
            "_view_count": null,
            "_view_module": "@jupyter-widgets/base",
            "_view_module_version": "1.2.0",
            "_view_name": "StyleView",
            "description_width": ""
          }
        },
        "b6f51d54da1548b59ddf7df629096025": {
          "model_module": "@jupyter-widgets/base",
          "model_name": "LayoutModel",
          "model_module_version": "1.2.0",
          "state": {
            "_model_module": "@jupyter-widgets/base",
            "_model_module_version": "1.2.0",
            "_model_name": "LayoutModel",
            "_view_count": null,
            "_view_module": "@jupyter-widgets/base",
            "_view_module_version": "1.2.0",
            "_view_name": "LayoutView",
            "align_content": null,
            "align_items": null,
            "align_self": null,
            "border": null,
            "bottom": null,
            "display": null,
            "flex": null,
            "flex_flow": null,
            "grid_area": null,
            "grid_auto_columns": null,
            "grid_auto_flow": null,
            "grid_auto_rows": null,
            "grid_column": null,
            "grid_gap": null,
            "grid_row": null,
            "grid_template_areas": null,
            "grid_template_columns": null,
            "grid_template_rows": null,
            "height": null,
            "justify_content": null,
            "justify_items": null,
            "left": null,
            "margin": null,
            "max_height": null,
            "max_width": null,
            "min_height": null,
            "min_width": null,
            "object_fit": null,
            "object_position": null,
            "order": null,
            "overflow": null,
            "overflow_x": null,
            "overflow_y": null,
            "padding": null,
            "right": null,
            "top": null,
            "visibility": null,
            "width": null
          }
        },
        "2952e8b086cf43a1b0b4cda8e3ea8a56": {
          "model_module": "@jupyter-widgets/controls",
          "model_name": "SliderStyleModel",
          "model_module_version": "1.5.0",
          "state": {
            "_model_module": "@jupyter-widgets/controls",
            "_model_module_version": "1.5.0",
            "_model_name": "SliderStyleModel",
            "_view_count": null,
            "_view_module": "@jupyter-widgets/base",
            "_view_module_version": "1.2.0",
            "_view_name": "StyleView",
            "description_width": "",
            "handle_color": null
          }
        },
        "44d127316af844d69c0d2b1ebfcd39d2": {
          "model_module": "@jupyter-widgets/base",
          "model_name": "LayoutModel",
          "model_module_version": "1.2.0",
          "state": {
            "_model_module": "@jupyter-widgets/base",
            "_model_module_version": "1.2.0",
            "_model_name": "LayoutModel",
            "_view_count": null,
            "_view_module": "@jupyter-widgets/base",
            "_view_module_version": "1.2.0",
            "_view_name": "LayoutView",
            "align_content": null,
            "align_items": null,
            "align_self": null,
            "border": null,
            "bottom": null,
            "display": null,
            "flex": null,
            "flex_flow": null,
            "grid_area": null,
            "grid_auto_columns": null,
            "grid_auto_flow": null,
            "grid_auto_rows": null,
            "grid_column": null,
            "grid_gap": null,
            "grid_row": null,
            "grid_template_areas": null,
            "grid_template_columns": null,
            "grid_template_rows": null,
            "height": null,
            "justify_content": null,
            "justify_items": null,
            "left": null,
            "margin": null,
            "max_height": null,
            "max_width": null,
            "min_height": null,
            "min_width": null,
            "object_fit": null,
            "object_position": null,
            "order": null,
            "overflow": null,
            "overflow_x": null,
            "overflow_y": null,
            "padding": null,
            "right": null,
            "top": null,
            "visibility": null,
            "width": null
          }
        }
      }
    }
  },
  "cells": [
    {
      "cell_type": "markdown",
      "source": [
        "\n",
        "# Projeto 2 - SCC0252 (Visualização Computacional)\n",
        "\n",
        "\n",
        "*   Otávio Ferracioli Coletti - 11767796\n",
        "*   Fernando César Lopes Barbosa Filho - 10260559\n",
        "\n",
        "\\\\\n",
        "\n",
        "---"
      ],
      "metadata": {
        "id": "HMw6rO2PdUp9"
      }
    },
    {
      "cell_type": "code",
      "source": [
        "# Bibliotecas importadas\n",
        "import numpy as np\n",
        "import pandas as pd\n",
        "import seaborn as sns\n",
        "import plotly.express as px\n",
        "import ipywidgets as widgets\n",
        "from ipywidgets import Button, Layout\n",
        "from matplotlib.spines import rcParams\n",
        "import plotly.graph_objects as go\n",
        "import matplotlib.pyplot as plt\n",
        "from matplotlib import legend\n",
        "from pandas import Series\n",
        "import ipywidgets\n",
        "import random\n",
        "import plotly\n",
        "import io"
      ],
      "metadata": {
        "id": "fjz4DBFG-Zwa"
      },
      "execution_count": 1,
      "outputs": []
    },
    {
      "cell_type": "code",
      "source": [
        "# Conjunto de dados do Spotify\n",
        "url = 'https://raw.githubusercontent.com/otaviofcoletti/VIZCOMP/main/SpotifyFeatures(1).csv'\n",
        "df = pd.read_csv(url)"
      ],
      "metadata": {
        "id": "LzrmJrCo-tYO"
      },
      "execution_count": 2,
      "outputs": []
    },
    {
      "cell_type": "code",
      "source": [
        "popular_music_rank = df.sort_values('popularity', ascending=False) "
      ],
      "metadata": {
        "id": "0T9xDSopHM0X"
      },
      "execution_count": 3,
      "outputs": []
    },
    {
      "cell_type": "markdown",
      "source": [
        "## Pré-processamento"
      ],
      "metadata": {
        "id": "C6yza2qpf9P3"
      }
    },
    {
      "cell_type": "markdown",
      "source": [
        "Para não selecionar artistas com apenas um single de sucesso (conhecidos como 'one hit'), trabalharemos com artistas que possuem 10 ou mais músicas populares para se ter como base artistas de sucesso mais consistentes."
      ],
      "metadata": {
        "id": "vBJvv64kFSV_"
      }
    },
    {
      "cell_type": "code",
      "source": [
        "vc = df['artist_name'].value_counts()  # contando quantas vezes cada artista aparece\n",
        "df = df[df['artist_name'].isin(vc.index[vc.gt(10)])]  # selecionando apenas aqueles que aparecem 10 vezes ou mais\n",
        "\n",
        "artist_count = df.groupby('artist_name')[['popularity']].count().sort_values(by='popularity', ascending=True)\n",
        "artist_sum = df.groupby('artist_name')[['popularity']].sum().sort_values(by='popularity', ascending=True)\n",
        "\n",
        "artist_rank = artist_sum.popularity / artist_count.popularity\n",
        "artist_rank = artist_rank.sort_values(ascending=False)\n",
        "artist_rank = pd.DataFrame(artist_rank).reset_index()\n"
      ],
      "metadata": {
        "id": "zLrs3iHTq-o0"
      },
      "execution_count": 4,
      "outputs": []
    },
    {
      "cell_type": "markdown",
      "source": [
        "Abaixo vamos selecionar apenas as músicas dos artistas acima e conhecer quais são suas características mais importantes."
      ],
      "metadata": {
        "id": "CQCivBqPQqRf"
      }
    },
    {
      "cell_type": "code",
      "source": [
        "top10_artistas = list(artist_rank['artist_name'][0:50])\n",
        "top10 = pd.DataFrame()\n",
        "\n",
        "for i in top10_artistas:\n",
        "  top10 = top10.append(df[df['artist_name'].str.match(i)],ignore_index=True)"
      ],
      "metadata": {
        "id": "r5pxDGz9vehE"
      },
      "execution_count": 5,
      "outputs": []
    },
    {
      "cell_type": "markdown",
      "source": [
        "As funções abaixo irão nos ajudar a plotar os gráficos que indicarão como são em média as músicas dos artistas mais populares do Spotify."
      ],
      "metadata": {
        "id": "GBoAAWCs4Jjt"
      }
    },
    {
      "cell_type": "code",
      "source": [
        "def artist_rank_calculator(feature : str):\n",
        "\n",
        "  artist_count = top10.groupby('artist_name')[[feature]].count().sort_values(by=feature, ascending=True)\n",
        "  artist_sum = top10.groupby('artist_name')[[feature]].sum().sort_values(by=feature, ascending=True)\n",
        "  artist_rank = artist_sum[feature] / artist_count[feature]\n",
        "  artist_rank = artist_rank.sort_values(ascending=False)\n",
        "  artist_rank = pd.DataFrame(artist_rank).reset_index()\n",
        "\n",
        "  return artist_rank"
      ],
      "metadata": {
        "id": "G0O9iMFb0qfn"
      },
      "execution_count": 6,
      "outputs": []
    },
    {
      "cell_type": "code",
      "source": [
        "def plot_artist_rank (number_of_artist=1,characterists='valence'):\n",
        "\n",
        "  ar = artist_rank_calculator(characterists)\n",
        "  feature = characterists\n",
        "  title = characterists\n",
        "  fig = px.bar(ar[0:number_of_artist].sort_values(by=feature, ascending=True), y=\"artist_name\", x=feature, color=feature, title=\"Artistas mais populares e seu \" + title + ' médio',orientation='h',width=900, height=700)\n",
        "  fig.update_layout(xaxis_range=[0,1])\n",
        "\n",
        "  fig.update_layout(\n",
        "      font_family=\"Helvetica\",\n",
        "      font_color=\"black\",\n",
        "      title_font_family=\"Helvetica\",\n",
        "      title_font_color=\"black\",\n",
        "      legend_title_font_color=\"black\"\n",
        "  )\n",
        "\n",
        "  fig.update_xaxes(title_font_family=\"Helvetica\")\n",
        "  fig.show()"
      ],
      "metadata": {
        "id": "SMx4eT9_1Ntj"
      },
      "execution_count": 7,
      "outputs": []
    },
    {
      "cell_type": "code",
      "source": [
        "lista_features = ['valence','acousticness','danceability','energy','liveness','speechiness','instrumentalness','loudness']"
      ],
      "metadata": {
        "id": "5Bfc7kGYjn_c"
      },
      "execution_count": 8,
      "outputs": []
    },
    {
      "cell_type": "code",
      "source": [
        "dd = widgets.Dropdown(\n",
        "    options=lista_features,\n",
        "    value='valence',\n",
        "    description='Atributo da Música',\n",
        "    disabled=False,\n",
        "    layout=Layout(width='30%', height='big')\n",
        ")"
      ],
      "metadata": {
        "id": "oCHRDzhAjIAh"
      },
      "execution_count": 9,
      "outputs": []
    },
    {
      "cell_type": "markdown",
      "source": [
        "## Gráfico de barras\n"
      ],
      "metadata": {
        "id": "dAMWtFPmO2mt"
      }
    },
    {
      "cell_type": "code",
      "source": [
        "ipywidgets.interactive(plot_artist_rank, number_of_artist=ipywidgets.IntSlider(min=1,max=50,step=1,value=10,description='N° artistas'), characterists=dd)"
      ],
      "metadata": {
        "id": "mXXozFc2TxO9",
        "colab": {
          "base_uri": "https://localhost:8080/",
          "height": 781,
          "referenced_widgets": [
            "e3e26d6b8e8c43198245fdfa88ee9f92",
            "f73ab5783b444172a1d063b41f3f8d6b",
            "a518a4599df544e98117813524a85977",
            "81d5e6c7c2544446a5b2b106723d64d5",
            "b3332e1faf0146edb40b457ff1c7a3f4",
            "6f4fb23ac2894ebc87a67c6be1f9b45b",
            "f711117f1f784b52bcc4947aef2b5362",
            "6c413b2cf294409db0d66245f9f74ebc",
            "bd63eb31db534cf8b81787cb7c87b67b",
            "2f1f13038cc149199d7993135864f7b7"
          ]
        },
        "outputId": "0d03bfe0-5fbb-4bf6-8f98-bcf65187d974"
      },
      "execution_count": 10,
      "outputs": [
        {
          "output_type": "display_data",
          "data": {
            "text/plain": [
              "interactive(children=(IntSlider(value=10, description='N° artistas', max=50, min=1), Dropdown(description='Atr…"
            ],
            "application/vnd.jupyter.widget-view+json": {
              "version_major": 2,
              "version_minor": 0,
              "model_id": "e3e26d6b8e8c43198245fdfa88ee9f92"
            }
          },
          "metadata": {}
        }
      ]
    },
    {
      "cell_type": "markdown",
      "source": [
        "## Radviz\n",
        "\n",
        "Temos aqui quatro eixos nos quais as músicas estarão dispostas para análise --- *energy, acousticness, danceability* e *popularity.*"
      ],
      "metadata": {
        "id": "osQLzhag5dFq"
      }
    },
    {
      "cell_type": "code",
      "source": [
        "def radviz_vs (genero_1 : str,genero_2 : str,genero_3 : str, number_of_music=150):\n",
        "  \n",
        "  fig = plt.figure( )\n",
        "  plt.figure(figsize=(15,10))\n",
        "  atributes = df[['acousticness','energy','danceability','popularity', 'genre']]\n",
        "  pd.plotting.radviz(atributes[atributes['genre'].isin([genero_1])][:number_of_music], 'genre',color=['blue'])\n",
        "  pd.plotting.radviz(atributes[atributes['genre'].isin([genero_2])][:number_of_music], 'genre',color=['red'])\n",
        "  pd.plotting.radviz(atributes[atributes['genre'].isin([genero_3])][:number_of_music], 'genre',color=['green'])\n",
        "  plt.title(\"Disposição das músicas dos gêneros \")\n",
        "  plt.legend( loc='upper right', fontsize='larger' )"
      ],
      "metadata": {
        "id": "wH2iKlz6XVF9"
      },
      "execution_count": 11,
      "outputs": []
    },
    {
      "cell_type": "code",
      "source": [
        "lista_generos = ['Genero 1','Genero 2','Genero 3']"
      ],
      "metadata": {
        "id": "bgFNI2M6ZFIz"
      },
      "execution_count": 12,
      "outputs": []
    },
    {
      "cell_type": "code",
      "source": [
        "genres=['Dance',\n",
        " 'Rap',\n",
        " 'Hip-Hop',\n",
        " 'Pop',\n",
        " 'Reggaeton',\n",
        " \"Children's Music\",\n",
        " 'Folk',\n",
        " 'Rock',\n",
        " 'Indie',\n",
        " 'Electronic',\n",
        " 'Alternative',\n",
        " 'Country',\n",
        " 'Soul',\n",
        " 'Blues',\n",
        " 'Jazz',\n",
        " 'Reggae',\n",
        " 'R&B',\n",
        " 'World',\n",
        " 'Soundtrack',\n",
        " 'Movie',\n",
        " 'Classical',\n",
        " 'Ska',\n",
        " 'Anime',\n",
        " 'Opera',\n",
        " 'Comedy',\n",
        " 'A Capella']"
      ],
      "metadata": {
        "id": "ARwcjOQtweYy"
      },
      "execution_count": 13,
      "outputs": []
    },
    {
      "cell_type": "code",
      "source": [
        "random.seed(10)\n",
        "dd = {description: widgets.Dropdown(\n",
        "    options=genres,\n",
        "    value=genres[random.randint(0,len(genres)-1)],\n",
        "    description=description,\n",
        "    disabled=False,\n",
        ") for description in lista_generos }"
      ],
      "metadata": {
        "id": "nBu5LYXIWdDa"
      },
      "execution_count": 14,
      "outputs": []
    },
    {
      "cell_type": "markdown",
      "source": [
        "Escolha o gênero musical e número de músicas a comparar:"
      ],
      "metadata": {
        "id": "isz_quQEEZhN"
      }
    },
    {
      "cell_type": "code",
      "source": [
        "ipywidgets.interact(radviz_vs, genero_1=dd['Genero 1'] ,genero_2=dd['Genero 2'] ,genero_3=dd['Genero 3'],number_of_music=ipywidgets.IntSlider(min=0, max=1000,step=25,value=150,description=\"N° músicas\"))"
      ],
      "metadata": {
        "id": "lG37y815Wags",
        "colab": {
          "base_uri": "https://localhost:8080/",
          "height": 770,
          "referenced_widgets": [
            "613ad44c639148db8dca6e7166035917",
            "9a760b9491804bb79bb6333749b4eeb1",
            "36a0dbb430934983a7828d1c02390090",
            "9acc6ee055d543bd96cdbb201bfdb78a",
            "f82a3139028e46269cbdc445737d2e63",
            "10566428eae9416299560de8ecc4afa0",
            "4e2c409d87b2436fabc3f0521a767d3c",
            "4b6654c839a2434588f783a7aa49827c",
            "7f08c826cd594a038a1128b1b4e6117f",
            "c4caac6100b244eebaa9b8c8f2b6f43a",
            "54390a8450e44ddb8296aa9564697da9",
            "433f1e1a7e6e42f4ad0983287c8bd353",
            "fdc508ea2bbd42ff81d16afdb3055ef7",
            "b6f51d54da1548b59ddf7df629096025",
            "2952e8b086cf43a1b0b4cda8e3ea8a56",
            "44d127316af844d69c0d2b1ebfcd39d2"
          ]
        },
        "outputId": "dc436b6e-ad3d-40a2-9a92-f530f625a41c"
      },
      "execution_count": 15,
      "outputs": [
        {
          "output_type": "display_data",
          "data": {
            "text/plain": [
              "interactive(children=(Dropdown(description='Genero 1', index=18, options=('Dance', 'Rap', 'Hip-Hop', 'Pop', 'R…"
            ],
            "application/vnd.jupyter.widget-view+json": {
              "version_major": 2,
              "version_minor": 0,
              "model_id": "613ad44c639148db8dca6e7166035917"
            }
          },
          "metadata": {}
        },
        {
          "output_type": "execute_result",
          "data": {
            "text/plain": [
              "<function __main__.radviz_vs(genero_1: str, genero_2: str, genero_3: str, number_of_music=150)>"
            ]
          },
          "metadata": {},
          "execution_count": 15
        }
      ]
    }
  ]
}